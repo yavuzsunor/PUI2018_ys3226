{
 "cells": [
  {
   "cell_type": "code",
   "execution_count": 1,
   "metadata": {},
   "outputs": [
    {
     "name": "stdout",
     "output_type": "stream",
     "text": [
      "Populating the interactive namespace from numpy and matplotlib\n"
     ]
    }
   ],
   "source": [
    "import pylab as pl\n",
    "import pandas as pd\n",
    "import numpy as np\n",
    "\n",
    "%pylab inline\n",
    "\n",
    "import os"
   ]
  },
  {
   "cell_type": "markdown",
   "metadata": {},
   "source": [
    "### Read in data"
   ]
  },
  {
   "cell_type": "code",
   "execution_count": 2,
   "metadata": {},
   "outputs": [
    {
     "name": "stdout",
     "output_type": "stream",
     "text": [
      "  % Total    % Received % Xferd  Average Speed   Time    Time     Time  Current\n",
      "                                 Dload  Upload   Total   Spent    Left  Speed\n",
      "100 22.1M  100 22.1M    0     0  44.0M      0 --:--:-- --:--:-- --:--:-- 43.9M\n",
      "  % Total    % Received % Xferd  Average Speed   Time    Time     Time  Current\n",
      "                                 Dload  Upload   Total   Spent    Left  Speed\n",
      "100 61.6M  100 61.6M    0     0  77.7M      0 --:--:-- --:--:-- --:--:-- 77.6M\n"
     ]
    }
   ],
   "source": [
    "!curl https://s3.amazonaws.com/tripdata/201801-citibike-tripdata.csv.zip > citibike201801.zip\n",
    "!curl https://s3.amazonaws.com/tripdata/201806-citibike-tripdata.csv.zip > citibike201806.zip"
   ]
  },
  {
   "cell_type": "code",
   "execution_count": 3,
   "metadata": {},
   "outputs": [
    {
     "name": "stdout",
     "output_type": "stream",
     "text": [
      "PUIDATA /nfshome/ys3226/PUIdata\n"
     ]
    }
   ],
   "source": [
    "# ove the downloaded data to PUI data\n",
    "print(\"PUIDATA\", os.getenv(\"PUIDATA\"))"
   ]
  },
  {
   "cell_type": "code",
   "execution_count": 4,
   "metadata": {},
   "outputs": [
    {
     "name": "stdout",
     "output_type": "stream",
     "text": [
      "PUIdata /nfshome/ys3226/PUIDATA\n"
     ]
    }
   ],
   "source": [
    "#create the env variable if missing\n",
    "os.environ[\"PUIDATA\"] = \"%s/PUIDATA\"%os.getenv(\"HOME\")\n",
    "\n",
    "print(\"PUIdata\", os.getenv(\"PUIDATA\"))"
   ]
  },
  {
   "cell_type": "code",
   "execution_count": 5,
   "metadata": {},
   "outputs": [],
   "source": [
    "# move the data\n",
    "!mv citibike201801.zip $PUIDATA\n",
    "!mv citibike201806.zip $PUIDATA"
   ]
  },
  {
   "cell_type": "code",
   "execution_count": 6,
   "metadata": {},
   "outputs": [
    {
     "name": "stdout",
     "output_type": "stream",
     "text": [
      "ACS_16_1YR_GCT2801.ST50_metadata.csv\r\n",
      "ACS_16_1YR_GCT2801.ST50.txt\r\n",
      "ACS_16_1YR_GCT2801.ST50_with_ann.csv\r\n",
      "aff_download_readme_ann.txt\r\n",
      "busdata.txt\r\n",
      "citibike201801.zip\r\n",
      "citibike201806.zip\r\n",
      "citibike201807.csv\r\n",
      "citibike201807.zip\r\n",
      "citybike.zip\r\n",
      "geo_export_636de871-8e98-487e-9145-74d53a689e04.dbf\r\n",
      "geo_export_636de871-8e98-487e-9145-74d53a689e04.prj\r\n",
      "geo_export_636de871-8e98-487e-9145-74d53a689e04.shp\r\n",
      "geo_export_636de871-8e98-487e-9145-74d53a689e04.shx\r\n",
      "geo_export_dae87114-9002-4016-b067-c7b122f00335.dbf\r\n",
      "geo_export_dae87114-9002-4016-b067-c7b122f00335.prj\r\n",
      "geo_export_dae87114-9002-4016-b067-c7b122f00335.shp\r\n",
      "geo_export_dae87114-9002-4016-b067-c7b122f00335.shx\r\n",
      "linkNYC.csv\r\n",
      "PLUTO_for_WEB\r\n"
     ]
    }
   ],
   "source": [
    "#test if the data is there\n",
    "!ls $PUIDATA"
   ]
  },
  {
   "cell_type": "code",
   "execution_count": 7,
   "metadata": {},
   "outputs": [],
   "source": [
    "cb201806 = pd.read_csv(\"%s/citibike201806.zip\"%os.getenv(\"PUIDATA\"))\n",
    "cb201801 = pd.read_csv(\"%s/citibike201801.zip\"%os.getenv(\"PUIDATA\"))"
   ]
  },
  {
   "cell_type": "code",
   "execution_count": 8,
   "metadata": {},
   "outputs": [],
   "source": [
    "cb201806 = cb201806[::1000]\n",
    "cb201801 = cb201801[::1000]"
   ]
  },
  {
   "cell_type": "code",
   "execution_count": 11,
   "metadata": {},
   "outputs": [
    {
     "data": {
      "text/html": [
       "<div>\n",
       "<table border=\"1\" class=\"dataframe\">\n",
       "  <thead>\n",
       "    <tr style=\"text-align: right;\">\n",
       "      <th></th>\n",
       "      <th>tripduration</th>\n",
       "      <th>starttime</th>\n",
       "      <th>stoptime</th>\n",
       "      <th>start station id</th>\n",
       "      <th>start station name</th>\n",
       "      <th>start station latitude</th>\n",
       "      <th>start station longitude</th>\n",
       "      <th>end station id</th>\n",
       "      <th>end station name</th>\n",
       "      <th>end station latitude</th>\n",
       "      <th>end station longitude</th>\n",
       "      <th>bikeid</th>\n",
       "      <th>usertype</th>\n",
       "      <th>birth year</th>\n",
       "      <th>gender</th>\n",
       "    </tr>\n",
       "  </thead>\n",
       "  <tbody>\n",
       "    <tr>\n",
       "      <th>0</th>\n",
       "      <td>970</td>\n",
       "      <td>2018-01-01 13:50:57.4340</td>\n",
       "      <td>2018-01-01 14:07:08.1860</td>\n",
       "      <td>72</td>\n",
       "      <td>W 52 St &amp; 11 Ave</td>\n",
       "      <td>40.767272</td>\n",
       "      <td>-73.993929</td>\n",
       "      <td>505</td>\n",
       "      <td>6 Ave &amp; W 33 St</td>\n",
       "      <td>40.749013</td>\n",
       "      <td>-73.988484</td>\n",
       "      <td>31956</td>\n",
       "      <td>Subscriber</td>\n",
       "      <td>1992</td>\n",
       "      <td>1</td>\n",
       "    </tr>\n",
       "    <tr>\n",
       "      <th>1000</th>\n",
       "      <td>629</td>\n",
       "      <td>2018-01-25 18:58:23.9490</td>\n",
       "      <td>2018-01-25 19:08:53.2360</td>\n",
       "      <td>72</td>\n",
       "      <td>W 52 St &amp; 11 Ave</td>\n",
       "      <td>40.767272</td>\n",
       "      <td>-73.993929</td>\n",
       "      <td>3233</td>\n",
       "      <td>E 48 St &amp; 5 Ave</td>\n",
       "      <td>40.757246</td>\n",
       "      <td>-73.978059</td>\n",
       "      <td>16386</td>\n",
       "      <td>Subscriber</td>\n",
       "      <td>1957</td>\n",
       "      <td>1</td>\n",
       "    </tr>\n",
       "    <tr>\n",
       "      <th>2000</th>\n",
       "      <td>907</td>\n",
       "      <td>2018-01-23 15:23:21.0930</td>\n",
       "      <td>2018-01-23 15:38:28.9190</td>\n",
       "      <td>79</td>\n",
       "      <td>Franklin St &amp; W Broadway</td>\n",
       "      <td>40.719116</td>\n",
       "      <td>-74.006667</td>\n",
       "      <td>357</td>\n",
       "      <td>E 11 St &amp; Broadway</td>\n",
       "      <td>40.732618</td>\n",
       "      <td>-73.991580</td>\n",
       "      <td>16757</td>\n",
       "      <td>Subscriber</td>\n",
       "      <td>1968</td>\n",
       "      <td>1</td>\n",
       "    </tr>\n",
       "    <tr>\n",
       "      <th>3000</th>\n",
       "      <td>472</td>\n",
       "      <td>2018-01-10 23:02:26.3850</td>\n",
       "      <td>2018-01-10 23:10:18.5380</td>\n",
       "      <td>83</td>\n",
       "      <td>Atlantic Ave &amp; Fort Greene Pl</td>\n",
       "      <td>40.683826</td>\n",
       "      <td>-73.976323</td>\n",
       "      <td>3546</td>\n",
       "      <td>Pacific St &amp; Classon Ave</td>\n",
       "      <td>40.679194</td>\n",
       "      <td>-73.958790</td>\n",
       "      <td>30094</td>\n",
       "      <td>Subscriber</td>\n",
       "      <td>1985</td>\n",
       "      <td>1</td>\n",
       "    </tr>\n",
       "    <tr>\n",
       "      <th>4000</th>\n",
       "      <td>949</td>\n",
       "      <td>2018-01-21 13:37:18.5130</td>\n",
       "      <td>2018-01-21 13:53:07.8760</td>\n",
       "      <td>120</td>\n",
       "      <td>Lexington Ave &amp; Classon Ave</td>\n",
       "      <td>40.686768</td>\n",
       "      <td>-73.959282</td>\n",
       "      <td>3440</td>\n",
       "      <td>Fulton St &amp; Adams St</td>\n",
       "      <td>40.692418</td>\n",
       "      <td>-73.989495</td>\n",
       "      <td>16425</td>\n",
       "      <td>Subscriber</td>\n",
       "      <td>1982</td>\n",
       "      <td>2</td>\n",
       "    </tr>\n",
       "  </tbody>\n",
       "</table>\n",
       "</div>"
      ],
      "text/plain": [
       "      tripduration                 starttime                  stoptime  \\\n",
       "0              970  2018-01-01 13:50:57.4340  2018-01-01 14:07:08.1860   \n",
       "1000           629  2018-01-25 18:58:23.9490  2018-01-25 19:08:53.2360   \n",
       "2000           907  2018-01-23 15:23:21.0930  2018-01-23 15:38:28.9190   \n",
       "3000           472  2018-01-10 23:02:26.3850  2018-01-10 23:10:18.5380   \n",
       "4000           949  2018-01-21 13:37:18.5130  2018-01-21 13:53:07.8760   \n",
       "\n",
       "      start station id             start station name  start station latitude  \\\n",
       "0                   72               W 52 St & 11 Ave               40.767272   \n",
       "1000                72               W 52 St & 11 Ave               40.767272   \n",
       "2000                79       Franklin St & W Broadway               40.719116   \n",
       "3000                83  Atlantic Ave & Fort Greene Pl               40.683826   \n",
       "4000               120    Lexington Ave & Classon Ave               40.686768   \n",
       "\n",
       "      start station longitude  end station id          end station name  \\\n",
       "0                  -73.993929             505           6 Ave & W 33 St   \n",
       "1000               -73.993929            3233           E 48 St & 5 Ave   \n",
       "2000               -74.006667             357        E 11 St & Broadway   \n",
       "3000               -73.976323            3546  Pacific St & Classon Ave   \n",
       "4000               -73.959282            3440      Fulton St & Adams St   \n",
       "\n",
       "      end station latitude  end station longitude  bikeid    usertype  \\\n",
       "0                40.749013             -73.988484   31956  Subscriber   \n",
       "1000             40.757246             -73.978059   16386  Subscriber   \n",
       "2000             40.732618             -73.991580   16757  Subscriber   \n",
       "3000             40.679194             -73.958790   30094  Subscriber   \n",
       "4000             40.692418             -73.989495   16425  Subscriber   \n",
       "\n",
       "      birth year  gender  \n",
       "0           1992       1  \n",
       "1000        1957       1  \n",
       "2000        1968       1  \n",
       "3000        1985       1  \n",
       "4000        1982       2  "
      ]
     },
     "execution_count": 11,
     "metadata": {},
     "output_type": "execute_result"
    }
   ],
   "source": [
    "cb201801.head()"
   ]
  },
  {
   "cell_type": "code",
   "execution_count": 12,
   "metadata": {},
   "outputs": [
    {
     "data": {
      "text/html": [
       "<div>\n",
       "<table border=\"1\" class=\"dataframe\">\n",
       "  <thead>\n",
       "    <tr style=\"text-align: right;\">\n",
       "      <th></th>\n",
       "      <th>tripduration</th>\n",
       "      <th>starttime</th>\n",
       "      <th>stoptime</th>\n",
       "      <th>start station id</th>\n",
       "      <th>start station name</th>\n",
       "      <th>start station latitude</th>\n",
       "      <th>start station longitude</th>\n",
       "      <th>end station id</th>\n",
       "      <th>end station name</th>\n",
       "      <th>end station latitude</th>\n",
       "      <th>end station longitude</th>\n",
       "      <th>bikeid</th>\n",
       "      <th>usertype</th>\n",
       "      <th>birth year</th>\n",
       "      <th>gender</th>\n",
       "    </tr>\n",
       "  </thead>\n",
       "  <tbody>\n",
       "    <tr>\n",
       "      <th>0</th>\n",
       "      <td>569</td>\n",
       "      <td>2018-06-01 01:57:20.5140</td>\n",
       "      <td>2018-06-01 02:06:50.0880</td>\n",
       "      <td>72</td>\n",
       "      <td>W 52 St &amp; 11 Ave</td>\n",
       "      <td>40.767272</td>\n",
       "      <td>-73.993929</td>\n",
       "      <td>173</td>\n",
       "      <td>Broadway &amp; W 49 St</td>\n",
       "      <td>40.760683</td>\n",
       "      <td>-73.984527</td>\n",
       "      <td>21481</td>\n",
       "      <td>Subscriber</td>\n",
       "      <td>1999</td>\n",
       "      <td>1</td>\n",
       "    </tr>\n",
       "    <tr>\n",
       "      <th>1000</th>\n",
       "      <td>229</td>\n",
       "      <td>2018-06-07 20:55:07.2610</td>\n",
       "      <td>2018-06-07 20:58:57.2510</td>\n",
       "      <td>72</td>\n",
       "      <td>W 52 St &amp; 11 Ave</td>\n",
       "      <td>40.767272</td>\n",
       "      <td>-73.993929</td>\n",
       "      <td>447</td>\n",
       "      <td>8 Ave &amp; W 52 St</td>\n",
       "      <td>40.763707</td>\n",
       "      <td>-73.985162</td>\n",
       "      <td>30852</td>\n",
       "      <td>Subscriber</td>\n",
       "      <td>1985</td>\n",
       "      <td>1</td>\n",
       "    </tr>\n",
       "    <tr>\n",
       "      <th>2000</th>\n",
       "      <td>1067</td>\n",
       "      <td>2018-06-13 19:54:48.4360</td>\n",
       "      <td>2018-06-13 20:12:35.6840</td>\n",
       "      <td>72</td>\n",
       "      <td>W 52 St &amp; 11 Ave</td>\n",
       "      <td>40.767272</td>\n",
       "      <td>-73.993929</td>\n",
       "      <td>347</td>\n",
       "      <td>Greenwich St &amp; W Houston St</td>\n",
       "      <td>40.728846</td>\n",
       "      <td>-74.008591</td>\n",
       "      <td>14950</td>\n",
       "      <td>Subscriber</td>\n",
       "      <td>1992</td>\n",
       "      <td>2</td>\n",
       "    </tr>\n",
       "    <tr>\n",
       "      <th>3000</th>\n",
       "      <td>77</td>\n",
       "      <td>2018-06-20 09:34:38.2740</td>\n",
       "      <td>2018-06-20 09:35:56.0430</td>\n",
       "      <td>72</td>\n",
       "      <td>W 52 St &amp; 11 Ave</td>\n",
       "      <td>40.767272</td>\n",
       "      <td>-73.993929</td>\n",
       "      <td>72</td>\n",
       "      <td>W 52 St &amp; 11 Ave</td>\n",
       "      <td>40.767272</td>\n",
       "      <td>-73.993929</td>\n",
       "      <td>31284</td>\n",
       "      <td>Subscriber</td>\n",
       "      <td>1971</td>\n",
       "      <td>1</td>\n",
       "    </tr>\n",
       "    <tr>\n",
       "      <th>4000</th>\n",
       "      <td>591</td>\n",
       "      <td>2018-06-26 20:31:40.7010</td>\n",
       "      <td>2018-06-26 20:41:32.3730</td>\n",
       "      <td>72</td>\n",
       "      <td>W 52 St &amp; 11 Ave</td>\n",
       "      <td>40.767272</td>\n",
       "      <td>-73.993929</td>\n",
       "      <td>500</td>\n",
       "      <td>Broadway &amp; W 51 St</td>\n",
       "      <td>40.762288</td>\n",
       "      <td>-73.983362</td>\n",
       "      <td>27750</td>\n",
       "      <td>Customer</td>\n",
       "      <td>1985</td>\n",
       "      <td>1</td>\n",
       "    </tr>\n",
       "  </tbody>\n",
       "</table>\n",
       "</div>"
      ],
      "text/plain": [
       "      tripduration                 starttime                  stoptime  \\\n",
       "0              569  2018-06-01 01:57:20.5140  2018-06-01 02:06:50.0880   \n",
       "1000           229  2018-06-07 20:55:07.2610  2018-06-07 20:58:57.2510   \n",
       "2000          1067  2018-06-13 19:54:48.4360  2018-06-13 20:12:35.6840   \n",
       "3000            77  2018-06-20 09:34:38.2740  2018-06-20 09:35:56.0430   \n",
       "4000           591  2018-06-26 20:31:40.7010  2018-06-26 20:41:32.3730   \n",
       "\n",
       "      start station id start station name  start station latitude  \\\n",
       "0                   72   W 52 St & 11 Ave               40.767272   \n",
       "1000                72   W 52 St & 11 Ave               40.767272   \n",
       "2000                72   W 52 St & 11 Ave               40.767272   \n",
       "3000                72   W 52 St & 11 Ave               40.767272   \n",
       "4000                72   W 52 St & 11 Ave               40.767272   \n",
       "\n",
       "      start station longitude  end station id             end station name  \\\n",
       "0                  -73.993929             173           Broadway & W 49 St   \n",
       "1000               -73.993929             447              8 Ave & W 52 St   \n",
       "2000               -73.993929             347  Greenwich St & W Houston St   \n",
       "3000               -73.993929              72             W 52 St & 11 Ave   \n",
       "4000               -73.993929             500           Broadway & W 51 St   \n",
       "\n",
       "      end station latitude  end station longitude  bikeid    usertype  \\\n",
       "0                40.760683             -73.984527   21481  Subscriber   \n",
       "1000             40.763707             -73.985162   30852  Subscriber   \n",
       "2000             40.728846             -74.008591   14950  Subscriber   \n",
       "3000             40.767272             -73.993929   31284  Subscriber   \n",
       "4000             40.762288             -73.983362   27750    Customer   \n",
       "\n",
       "      birth year  gender  \n",
       "0           1999       1  \n",
       "1000        1985       1  \n",
       "2000        1992       2  \n",
       "3000        1971       1  \n",
       "4000        1985       1  "
      ]
     },
     "execution_count": 12,
     "metadata": {},
     "output_type": "execute_result"
    }
   ],
   "source": [
    "cb201806.head()"
   ]
  },
  {
   "cell_type": "code",
   "execution_count": 13,
   "metadata": {},
   "outputs": [],
   "source": [
    "#append two datasets\n",
    "cb = cb201801.append(cb201806, ignore_index=True)"
   ]
  },
  {
   "cell_type": "code",
   "execution_count": 14,
   "metadata": {},
   "outputs": [],
   "source": [
    "#create the hour variable to specify the time of the day\n",
    "cb['usehour'] = pd.to_datetime(cb['starttime']).dt.hour"
   ]
  },
  {
   "cell_type": "markdown",
   "metadata": {},
   "source": [
    "## SPLIT BY CATEGORY"
   ]
  },
  {
   "cell_type": "markdown",
   "metadata": {},
   "source": [
    "H0: there is no statistical difference in the trip durations of daytime and nighttime bike riding \n",
    "\n",
    "$$ \\alpha = 0.05 $$"
   ]
  },
  {
   "cell_type": "code",
   "execution_count": 15,
   "metadata": {},
   "outputs": [],
   "source": [
    "cb['daytime'] = np.where((cb['usehour'] > 6) & (cb['usehour'] < 18), 'day', 'night')"
   ]
  },
  {
   "cell_type": "code",
   "execution_count": 16,
   "metadata": {},
   "outputs": [
    {
     "data": {
      "text/plain": [
       "Index(['tripduration', 'starttime', 'stoptime', 'start station id',\n",
       "       'start station name', 'start station latitude',\n",
       "       'start station longitude', 'end station id', 'end station name',\n",
       "       'end station latitude', 'end station longitude', 'bikeid', 'usertype',\n",
       "       'birth year', 'gender', 'usehour', 'daytime'],\n",
       "      dtype='object')"
      ]
     },
     "execution_count": 16,
     "metadata": {},
     "output_type": "execute_result"
    }
   ],
   "source": [
    "cb.columns"
   ]
  },
  {
   "cell_type": "code",
   "execution_count": 17,
   "metadata": {},
   "outputs": [],
   "source": [
    "cb_trip = cb"
   ]
  },
  {
   "cell_type": "code",
   "execution_count": 19,
   "metadata": {},
   "outputs": [
    {
     "data": {
      "text/plain": [
       "Index(['starttime', 'stoptime'], dtype='object')"
      ]
     },
     "execution_count": 19,
     "metadata": {},
     "output_type": "execute_result"
    }
   ],
   "source": [
    "cb.columns[1:3]"
   ]
  },
  {
   "cell_type": "code",
   "execution_count": null,
   "metadata": {},
   "outputs": [],
   "source": [
    "#dropping some data I no longer need\n",
    "cb_trip.drop(['starttime', 'stoptime', 'start station id',\n",
    "       'start station name', 'start station latitude',\n",
    "       'start station longitude', 'end station id', 'end station name',\n",
    "       'end station latitude', 'end station longitude', 'bikeid',\n",
    "       'birth year', 'gender', 'usehour'], axis=1, inplace=True)"
   ]
  },
  {
   "cell_type": "code",
   "execution_count": null,
   "metadata": {},
   "outputs": [],
   "source": [
    "df['ageM'] = 2015 - df['birth year'][(df['usertype'] == 'Subscriber') & (df['gender'] == 1)]\n",
    "df['ageF'] = 2015 - df['birth year'][(df['usertype'] == 'Subscriber') & (df['gender'] == 2)]"
   ]
  },
  {
   "cell_type": "code",
   "execution_count": null,
   "metadata": {},
   "outputs": [],
   "source": [
    "cb_trip.head()"
   ]
  },
  {
   "cell_type": "code",
   "execution_count": null,
   "metadata": {},
   "outputs": [],
   "source": []
  },
  {
   "cell_type": "code",
   "execution_count": null,
   "metadata": {},
   "outputs": [],
   "source": [
    "# dropping NaN values\n",
    "cb_trip['tripduration'].dropna(inplace= True)\n",
    "cb_trip['daytime'].dropna(inplace= True)"
   ]
  },
  {
   "cell_type": "code",
   "execution_count": null,
   "metadata": {},
   "outputs": [],
   "source": [
    "cb_trip.describe()"
   ]
  },
  {
   "cell_type": "code",
   "execution_count": null,
   "metadata": {},
   "outputs": [],
   "source": [
    "# split trip durations in 200 second bins \n",
    "# plotting histograms with pandas \n",
    "bins = np.arange(100, 5000, 200)\n",
    "axM = cb_trip.ageM.groupby(pd.cut(df.ageM, bins)).agg([count_nonzero]).plot(kind='bar', \n",
    "                                                                legend=False)\n",
    "axM.set_title(\"male riders\")\n",
    "axF = df.ageF.groupby(pd.cut(df.ageF, bins)).agg([count_nonzero]).plot(kind='bar',\n",
    "                                                                legend=False)\n",
    "axF.set_title(\"female riders\");"
   ]
  }
 ],
 "metadata": {
  "kernelspec": {
   "display_name": "PUI2016_Python3",
   "language": "python",
   "name": "pui2016_python3"
  },
  "language_info": {
   "codemirror_mode": {
    "name": "ipython",
    "version": 3
   },
   "file_extension": ".py",
   "mimetype": "text/x-python",
   "name": "python",
   "nbconvert_exporter": "python",
   "pygments_lexer": "ipython3",
   "version": "3.5.4"
  }
 },
 "nbformat": 4,
 "nbformat_minor": 2
}
