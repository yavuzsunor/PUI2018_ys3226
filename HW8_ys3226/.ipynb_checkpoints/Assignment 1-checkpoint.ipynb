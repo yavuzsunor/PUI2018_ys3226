{
 "cells": [
  {
   "cell_type": "code",
   "execution_count": 1,
   "metadata": {},
   "outputs": [],
   "source": [
    "import os\n",
    "import pandas as pd\n",
    "import numpy as np\n",
    "import matplotlib.pyplot as plt\n",
    "%matplotlib inline"
   ]
  },
  {
   "cell_type": "code",
   "execution_count": 2,
   "metadata": {},
   "outputs": [
    {
     "name": "stdout",
     "output_type": "stream",
     "text": [
      "  % Total    % Received % Xferd  Average Speed   Time    Time     Time  Current\n",
      "                                 Dload  Upload   Total   Spent    Left  Speed\n",
      "100  446k  100  446k    0     0  1531k      0 --:--:-- --:--:-- --:--:-- 1537k\n"
     ]
    }
   ],
   "source": [
    "!curl https://policeviolencereport.org/data/police-violence-report-2017.xlsx > policeviolence.xlsx"
   ]
  },
  {
   "cell_type": "code",
   "execution_count": 3,
   "metadata": {},
   "outputs": [
    {
     "name": "stdout",
     "output_type": "stream",
     "text": [
      "PUIDATA /nfshome/ys3226/PUIdata\n"
     ]
    }
   ],
   "source": [
    "# ove the downloaded data to PUI data\n",
    "print(\"PUIDATA\", os.getenv(\"PUIDATA\"))"
   ]
  },
  {
   "cell_type": "code",
   "execution_count": 4,
   "metadata": {},
   "outputs": [
    {
     "name": "stdout",
     "output_type": "stream",
     "text": [
      "PUIdata /nfshome/ys3226/PUIDATA\n"
     ]
    }
   ],
   "source": [
    "#create the env variable if missing\n",
    "os.environ[\"PUIDATA\"] = \"%s/PUIDATA\"%os.getenv(\"HOME\")\n",
    "\n",
    "print(\"PUIdata\", os.getenv(\"PUIDATA\"))"
   ]
  },
  {
   "cell_type": "code",
   "execution_count": 5,
   "metadata": {},
   "outputs": [],
   "source": [
    "# move the data\n",
    "!mv policeviolence.xlsx $PUIDATA"
   ]
  },
  {
   "cell_type": "code",
   "execution_count": 6,
   "metadata": {
    "scrolled": true
   },
   "outputs": [],
   "source": [
    "df = pd.read_excel(\"%s/policeviolence.xlsx\"%os.getenv(\"PUIDATA\"))"
   ]
  },
  {
   "cell_type": "code",
   "execution_count": 7,
   "metadata": {
    "scrolled": true
   },
   "outputs": [
    {
     "data": {
      "text/html": [
       "<div>\n",
       "<table border=\"1\" class=\"dataframe\">\n",
       "  <thead>\n",
       "    <tr style=\"text-align: right;\">\n",
       "      <th></th>\n",
       "      <th>Victim's name</th>\n",
       "      <th>Victim's age</th>\n",
       "      <th>Victim's gender</th>\n",
       "      <th>Victim's race</th>\n",
       "      <th>URL of image of victim</th>\n",
       "      <th>Date of Incident (month/day/year)</th>\n",
       "      <th>Street Address of Incident</th>\n",
       "      <th>City</th>\n",
       "      <th>State</th>\n",
       "      <th>Zipcode</th>\n",
       "      <th>...</th>\n",
       "      <th>WaPo ID (If included in WaPo database)</th>\n",
       "      <th>Alleged Crime or Reason for Initial Encounter</th>\n",
       "      <th>Suspected Offense Category</th>\n",
       "      <th>Name(s) of Officers Involved</th>\n",
       "      <th>Race of officer(s)</th>\n",
       "      <th>Number of years on the force prior to the date of incident</th>\n",
       "      <th>Officer's Previous Shootings</th>\n",
       "      <th>Time of day of incident</th>\n",
       "      <th>Is there video of the incident?</th>\n",
       "      <th>Unique ID</th>\n",
       "    </tr>\n",
       "  </thead>\n",
       "  <tbody>\n",
       "    <tr>\n",
       "      <th>0</th>\n",
       "      <td>James E. Lewis</td>\n",
       "      <td>44</td>\n",
       "      <td>Male</td>\n",
       "      <td>Black</td>\n",
       "      <td>http://www.fatalencounters.org/wp-content/uplo...</td>\n",
       "      <td>2017-01-01</td>\n",
       "      <td>1101 E Scott St</td>\n",
       "      <td>Springfield</td>\n",
       "      <td>MO</td>\n",
       "      <td>65802.0</td>\n",
       "      <td>...</td>\n",
       "      <td>2180.0</td>\n",
       "      <td>aggravated assault, wellness check/erratic beh...</td>\n",
       "      <td>Violent</td>\n",
       "      <td>Daniel Carlson, Joshua Brown, Brandon Gonzales</td>\n",
       "      <td>NaN</td>\n",
       "      <td>NaN</td>\n",
       "      <td>NaN</td>\n",
       "      <td>03:20:00</td>\n",
       "      <td>dash cam video</td>\n",
       "      <td>214.0</td>\n",
       "    </tr>\n",
       "    <tr>\n",
       "      <th>1</th>\n",
       "      <td>Trevon Johnson</td>\n",
       "      <td>17</td>\n",
       "      <td>Male</td>\n",
       "      <td>Black</td>\n",
       "      <td>NaN</td>\n",
       "      <td>2017-01-01</td>\n",
       "      <td>Standish Lane and Ardmore Avenue</td>\n",
       "      <td>Villa Park</td>\n",
       "      <td>IL</td>\n",
       "      <td>60181.0</td>\n",
       "      <td>...</td>\n",
       "      <td>2178.0</td>\n",
       "      <td>domestic disturbance</td>\n",
       "      <td>General Domestic Disturbance</td>\n",
       "      <td>Deputy Scott Kuschell</td>\n",
       "      <td>white</td>\n",
       "      <td>14</td>\n",
       "      <td>NaN</td>\n",
       "      <td>23:45:00</td>\n",
       "      <td>No</td>\n",
       "      <td>212.0</td>\n",
       "    </tr>\n",
       "    <tr>\n",
       "      <th>2</th>\n",
       "      <td>Mark Guirguis</td>\n",
       "      <td>21</td>\n",
       "      <td>Male</td>\n",
       "      <td>Black</td>\n",
       "      <td>http://www.fatalencounters.org/wp-content/uplo...</td>\n",
       "      <td>2017-01-01</td>\n",
       "      <td>700 South Jupiter Road</td>\n",
       "      <td>Allen</td>\n",
       "      <td>TX</td>\n",
       "      <td>75002.0</td>\n",
       "      <td>...</td>\n",
       "      <td>2187.0</td>\n",
       "      <td>disorderly conduct</td>\n",
       "      <td>Public Order</td>\n",
       "      <td>NaN</td>\n",
       "      <td>NaN</td>\n",
       "      <td>NaN</td>\n",
       "      <td>NaN</td>\n",
       "      <td>00:30:00</td>\n",
       "      <td>No</td>\n",
       "      <td>213.0</td>\n",
       "    </tr>\n",
       "    <tr>\n",
       "      <th>3</th>\n",
       "      <td>Juan Carlos Cuadra</td>\n",
       "      <td>23</td>\n",
       "      <td>Male</td>\n",
       "      <td>Hispanic</td>\n",
       "      <td>NaN</td>\n",
       "      <td>2017-01-01</td>\n",
       "      <td>14200 Burnham Drive</td>\n",
       "      <td>Houston</td>\n",
       "      <td>TX</td>\n",
       "      <td>77053.0</td>\n",
       "      <td>...</td>\n",
       "      <td>2185.0</td>\n",
       "      <td>disorderly conduct, assault/battery</td>\n",
       "      <td>Assault/Battery</td>\n",
       "      <td>NaN</td>\n",
       "      <td>NaN</td>\n",
       "      <td>NaN</td>\n",
       "      <td>NaN</td>\n",
       "      <td>07:30:00</td>\n",
       "      <td>No</td>\n",
       "      <td>359.0</td>\n",
       "    </tr>\n",
       "    <tr>\n",
       "      <th>4</th>\n",
       "      <td>Chad Erik Roberts</td>\n",
       "      <td>35</td>\n",
       "      <td>Male</td>\n",
       "      <td>White</td>\n",
       "      <td>NaN</td>\n",
       "      <td>2017-01-01</td>\n",
       "      <td>I-75, Wade Green Road</td>\n",
       "      <td>Kennesaw</td>\n",
       "      <td>GA</td>\n",
       "      <td>30144.0</td>\n",
       "      <td>...</td>\n",
       "      <td>2184.0</td>\n",
       "      <td>suspicious activity</td>\n",
       "      <td>Profiling</td>\n",
       "      <td>Matt Davis, William Vincent</td>\n",
       "      <td>white, white</td>\n",
       "      <td>3.5, 2</td>\n",
       "      <td>NaN</td>\n",
       "      <td>22:00:00</td>\n",
       "      <td>No</td>\n",
       "      <td>868.0</td>\n",
       "    </tr>\n",
       "  </tbody>\n",
       "</table>\n",
       "<p>5 rows × 30 columns</p>\n",
       "</div>"
      ],
      "text/plain": [
       "        Victim's name Victim's age Victim's gender Victim's race  \\\n",
       "0      James E. Lewis           44            Male         Black   \n",
       "1      Trevon Johnson           17            Male         Black   \n",
       "2       Mark Guirguis           21            Male         Black   \n",
       "3  Juan Carlos Cuadra           23            Male      Hispanic   \n",
       "4   Chad Erik Roberts           35            Male         White   \n",
       "\n",
       "                              URL of image of victim  \\\n",
       "0  http://www.fatalencounters.org/wp-content/uplo...   \n",
       "1                                                NaN   \n",
       "2  http://www.fatalencounters.org/wp-content/uplo...   \n",
       "3                                                NaN   \n",
       "4                                                NaN   \n",
       "\n",
       "  Date of Incident (month/day/year)        Street Address of Incident  \\\n",
       "0                        2017-01-01                   1101 E Scott St   \n",
       "1                        2017-01-01  Standish Lane and Ardmore Avenue   \n",
       "2                        2017-01-01            700 South Jupiter Road   \n",
       "3                        2017-01-01               14200 Burnham Drive   \n",
       "4                        2017-01-01             I-75, Wade Green Road   \n",
       "\n",
       "          City State  Zipcode    ...     \\\n",
       "0  Springfield    MO  65802.0    ...      \n",
       "1   Villa Park    IL  60181.0    ...      \n",
       "2        Allen    TX  75002.0    ...      \n",
       "3      Houston    TX  77053.0    ...      \n",
       "4     Kennesaw    GA  30144.0    ...      \n",
       "\n",
       "  WaPo ID (If included in WaPo database)  \\\n",
       "0                                 2180.0   \n",
       "1                                 2178.0   \n",
       "2                                 2187.0   \n",
       "3                                 2185.0   \n",
       "4                                 2184.0   \n",
       "\n",
       "       Alleged Crime or Reason for Initial Encounter  \\\n",
       "0  aggravated assault, wellness check/erratic beh...   \n",
       "1                               domestic disturbance   \n",
       "2                                 disorderly conduct   \n",
       "3                disorderly conduct, assault/battery   \n",
       "4                                suspicious activity   \n",
       "\n",
       "     Suspected Offense Category  \\\n",
       "0                       Violent   \n",
       "1  General Domestic Disturbance   \n",
       "2                  Public Order   \n",
       "3               Assault/Battery   \n",
       "4                     Profiling   \n",
       "\n",
       "                     Name(s) of Officers Involved Race of officer(s)  \\\n",
       "0  Daniel Carlson, Joshua Brown, Brandon Gonzales                NaN   \n",
       "1                           Deputy Scott Kuschell              white   \n",
       "2                                             NaN                NaN   \n",
       "3                                             NaN                NaN   \n",
       "4                     Matt Davis, William Vincent       white, white   \n",
       "\n",
       "  Number of years on the force prior to the date of incident  \\\n",
       "0                                                NaN           \n",
       "1                                                 14           \n",
       "2                                                NaN           \n",
       "3                                                NaN           \n",
       "4                                             3.5, 2           \n",
       "\n",
       "  Officer's Previous Shootings Time of day of incident  \\\n",
       "0                          NaN                03:20:00   \n",
       "1                          NaN                23:45:00   \n",
       "2                          NaN                00:30:00   \n",
       "3                          NaN                07:30:00   \n",
       "4                          NaN                22:00:00   \n",
       "\n",
       "  Is there video of the incident? Unique ID  \n",
       "0                  dash cam video     214.0  \n",
       "1                              No     212.0  \n",
       "2                              No     213.0  \n",
       "3                              No     359.0  \n",
       "4                              No     868.0  \n",
       "\n",
       "[5 rows x 30 columns]"
      ]
     },
     "execution_count": 7,
     "metadata": {},
     "output_type": "execute_result"
    }
   ],
   "source": [
    "df.head()"
   ]
  },
  {
   "cell_type": "code",
   "execution_count": 9,
   "metadata": {
    "scrolled": true
   },
   "outputs": [],
   "source": [
    "df_pivot = df[['City', \"Victim's race\"]].groupby([\"City\", \"Victim's race\"])[\"Victim's race\"].count().unstack()"
   ]
  },
  {
   "cell_type": "code",
   "execution_count": 10,
   "metadata": {},
   "outputs": [
    {
     "data": {
      "text/html": [
       "<div>\n",
       "<table border=\"1\" class=\"dataframe\">\n",
       "  <thead>\n",
       "    <tr style=\"text-align: right;\">\n",
       "      <th>Victim's race</th>\n",
       "      <th>Asian</th>\n",
       "      <th>Black</th>\n",
       "      <th>Hispanic</th>\n",
       "      <th>Native American</th>\n",
       "      <th>Pacific Islander</th>\n",
       "      <th>Unknown Race</th>\n",
       "      <th>Unknown race</th>\n",
       "      <th>White</th>\n",
       "    </tr>\n",
       "    <tr>\n",
       "      <th>City</th>\n",
       "      <th></th>\n",
       "      <th></th>\n",
       "      <th></th>\n",
       "      <th></th>\n",
       "      <th></th>\n",
       "      <th></th>\n",
       "      <th></th>\n",
       "      <th></th>\n",
       "    </tr>\n",
       "  </thead>\n",
       "  <tbody>\n",
       "    <tr>\n",
       "      <th>Los Angeles</th>\n",
       "      <td>NaN</td>\n",
       "      <td>4.0</td>\n",
       "      <td>6.0</td>\n",
       "      <td>NaN</td>\n",
       "      <td>NaN</td>\n",
       "      <td>NaN</td>\n",
       "      <td>NaN</td>\n",
       "      <td>4.0</td>\n",
       "    </tr>\n",
       "  </tbody>\n",
       "</table>\n",
       "</div>"
      ],
      "text/plain": [
       "Victim's race  Asian  Black  Hispanic  Native American  Pacific Islander  \\\n",
       "City                                                                       \n",
       "Los Angeles      NaN    4.0       6.0              NaN               NaN   \n",
       "\n",
       "Victim's race  Unknown Race  Unknown race  White  \n",
       "City                                              \n",
       "Los Angeles             NaN           NaN    4.0  "
      ]
     },
     "execution_count": 10,
     "metadata": {},
     "output_type": "execute_result"
    }
   ],
   "source": [
    "#check out a sample city\n",
    "df_pivot[df_pivot.index == 'Los Angeles']"
   ]
  },
  {
   "cell_type": "code",
   "execution_count": 11,
   "metadata": {},
   "outputs": [],
   "source": [
    "df_pivot = df_pivot.fillna(0)"
   ]
  },
  {
   "cell_type": "code",
   "execution_count": 12,
   "metadata": {},
   "outputs": [
    {
     "data": {
      "text/html": [
       "<div>\n",
       "<table border=\"1\" class=\"dataframe\">\n",
       "  <thead>\n",
       "    <tr style=\"text-align: right;\">\n",
       "      <th>Victim's race</th>\n",
       "      <th>Asian</th>\n",
       "      <th>Black</th>\n",
       "      <th>Hispanic</th>\n",
       "      <th>Native American</th>\n",
       "      <th>Pacific Islander</th>\n",
       "      <th>Unknown Race</th>\n",
       "      <th>Unknown race</th>\n",
       "      <th>White</th>\n",
       "      <th>Total</th>\n",
       "    </tr>\n",
       "    <tr>\n",
       "      <th>City</th>\n",
       "      <th></th>\n",
       "      <th></th>\n",
       "      <th></th>\n",
       "      <th></th>\n",
       "      <th></th>\n",
       "      <th></th>\n",
       "      <th></th>\n",
       "      <th></th>\n",
       "      <th></th>\n",
       "    </tr>\n",
       "  </thead>\n",
       "  <tbody>\n",
       "    <tr>\n",
       "      <th>Abbeville</th>\n",
       "      <td>0.0</td>\n",
       "      <td>1.0</td>\n",
       "      <td>0.0</td>\n",
       "      <td>0.0</td>\n",
       "      <td>0.0</td>\n",
       "      <td>0.0</td>\n",
       "      <td>0.0</td>\n",
       "      <td>0.0</td>\n",
       "      <td>1.0</td>\n",
       "    </tr>\n",
       "    <tr>\n",
       "      <th>Abilene</th>\n",
       "      <td>0.0</td>\n",
       "      <td>0.0</td>\n",
       "      <td>0.0</td>\n",
       "      <td>0.0</td>\n",
       "      <td>0.0</td>\n",
       "      <td>0.0</td>\n",
       "      <td>0.0</td>\n",
       "      <td>1.0</td>\n",
       "      <td>1.0</td>\n",
       "    </tr>\n",
       "    <tr>\n",
       "      <th>Abingdon</th>\n",
       "      <td>0.0</td>\n",
       "      <td>0.0</td>\n",
       "      <td>0.0</td>\n",
       "      <td>0.0</td>\n",
       "      <td>0.0</td>\n",
       "      <td>0.0</td>\n",
       "      <td>1.0</td>\n",
       "      <td>0.0</td>\n",
       "      <td>1.0</td>\n",
       "    </tr>\n",
       "    <tr>\n",
       "      <th>Affton</th>\n",
       "      <td>0.0</td>\n",
       "      <td>0.0</td>\n",
       "      <td>0.0</td>\n",
       "      <td>0.0</td>\n",
       "      <td>0.0</td>\n",
       "      <td>0.0</td>\n",
       "      <td>0.0</td>\n",
       "      <td>1.0</td>\n",
       "      <td>1.0</td>\n",
       "    </tr>\n",
       "    <tr>\n",
       "      <th>Aiea</th>\n",
       "      <td>0.0</td>\n",
       "      <td>0.0</td>\n",
       "      <td>0.0</td>\n",
       "      <td>0.0</td>\n",
       "      <td>1.0</td>\n",
       "      <td>0.0</td>\n",
       "      <td>0.0</td>\n",
       "      <td>0.0</td>\n",
       "      <td>1.0</td>\n",
       "    </tr>\n",
       "  </tbody>\n",
       "</table>\n",
       "</div>"
      ],
      "text/plain": [
       "Victim's race  Asian  Black  Hispanic  Native American  Pacific Islander  \\\n",
       "City                                                                       \n",
       "Abbeville        0.0    1.0       0.0              0.0               0.0   \n",
       "Abilene          0.0    0.0       0.0              0.0               0.0   \n",
       "Abingdon         0.0    0.0       0.0              0.0               0.0   \n",
       "Affton           0.0    0.0       0.0              0.0               0.0   \n",
       "Aiea             0.0    0.0       0.0              0.0               1.0   \n",
       "\n",
       "Victim's race  Unknown Race  Unknown race  White  Total  \n",
       "City                                                     \n",
       "Abbeville               0.0           0.0    0.0    1.0  \n",
       "Abilene                 0.0           0.0    1.0    1.0  \n",
       "Abingdon                0.0           1.0    0.0    1.0  \n",
       "Affton                  0.0           0.0    1.0    1.0  \n",
       "Aiea                    0.0           0.0    0.0    1.0  "
      ]
     },
     "execution_count": 12,
     "metadata": {},
     "output_type": "execute_result"
    }
   ],
   "source": [
    "df_pivot['Total'] = df_pivot.sum(axis=1)\n",
    "df_pivot.head()"
   ]
  },
  {
   "cell_type": "code",
   "execution_count": 13,
   "metadata": {},
   "outputs": [
    {
     "data": {
      "text/html": [
       "<div>\n",
       "<table border=\"1\" class=\"dataframe\">\n",
       "  <thead>\n",
       "    <tr style=\"text-align: right;\">\n",
       "      <th>Victim's race</th>\n",
       "      <th>Asian</th>\n",
       "      <th>Black</th>\n",
       "      <th>Hispanic</th>\n",
       "      <th>Native American</th>\n",
       "      <th>Pacific Islander</th>\n",
       "      <th>Unknown Race</th>\n",
       "      <th>Unknown race</th>\n",
       "      <th>White</th>\n",
       "      <th>Total</th>\n",
       "      <th>Black Ratio</th>\n",
       "    </tr>\n",
       "    <tr>\n",
       "      <th>City</th>\n",
       "      <th></th>\n",
       "      <th></th>\n",
       "      <th></th>\n",
       "      <th></th>\n",
       "      <th></th>\n",
       "      <th></th>\n",
       "      <th></th>\n",
       "      <th></th>\n",
       "      <th></th>\n",
       "      <th></th>\n",
       "    </tr>\n",
       "  </thead>\n",
       "  <tbody>\n",
       "    <tr>\n",
       "      <th>Los Angeles</th>\n",
       "      <td>0.0</td>\n",
       "      <td>4.0</td>\n",
       "      <td>6.0</td>\n",
       "      <td>0.0</td>\n",
       "      <td>0.0</td>\n",
       "      <td>0.0</td>\n",
       "      <td>0.0</td>\n",
       "      <td>4.0</td>\n",
       "      <td>14.0</td>\n",
       "      <td>0.285714</td>\n",
       "    </tr>\n",
       "  </tbody>\n",
       "</table>\n",
       "</div>"
      ],
      "text/plain": [
       "Victim's race  Asian  Black  Hispanic  Native American  Pacific Islander  \\\n",
       "City                                                                       \n",
       "Los Angeles      0.0    4.0       6.0              0.0               0.0   \n",
       "\n",
       "Victim's race  Unknown Race  Unknown race  White  Total  Black Ratio  \n",
       "City                                                                  \n",
       "Los Angeles             0.0           0.0    4.0   14.0     0.285714  "
      ]
     },
     "execution_count": 13,
     "metadata": {},
     "output_type": "execute_result"
    }
   ],
   "source": [
    "df_pivot['Black Ratio'] = df_pivot['Black'] / df_pivot['Total']\n",
    "df_pivot[df_pivot.index == 'Los Angeles']"
   ]
  },
  {
   "cell_type": "code",
   "execution_count": 15,
   "metadata": {},
   "outputs": [],
   "source": [
    "# Metro areas with Largest African-American Population(2014 Census Estimates)\n",
    "# http://blackdemographics.com/population/black-city-population/\n",
    "# SOURCE: 2010-2014 American Community Survey 5-Year Estimates,  Black Alone= not in combination with other race.\n",
    "# CSA: Combined Statistical Area (CSA) is composed of adjacent metropolitan areas\n",
    "\n",
    "d = {'City': ['New York', 'Atlanta', 'Chicago', 'Washington', 'Philadelphia', 'Miami', 'Los Angeles',\n",
    "              'Houston', 'Dallas', 'Detroit', 'Baltimore', 'Memphis', 'San Fransisco', 'Norfolk', 'St. Louis',\n",
    "              'Charlotte', 'Raleigh', 'New Orleans', 'Cleveland', 'Richmond'], \n",
    "     'Black Percentage': [17, 33, 17, 25, 21, 21, 7, 17, 15, 23, 29, 46, 6, 31, 18, 22, 23, 35, 20, 30]}\n",
    "black_perc = pd.DataFrame(data=d)"
   ]
  },
  {
   "cell_type": "code",
   "execution_count": 16,
   "metadata": {},
   "outputs": [
    {
     "data": {
      "text/html": [
       "<div>\n",
       "<table border=\"1\" class=\"dataframe\">\n",
       "  <thead>\n",
       "    <tr style=\"text-align: right;\">\n",
       "      <th></th>\n",
       "      <th>Black Percentage</th>\n",
       "      <th>City</th>\n",
       "    </tr>\n",
       "  </thead>\n",
       "  <tbody>\n",
       "    <tr>\n",
       "      <th>0</th>\n",
       "      <td>17</td>\n",
       "      <td>New York</td>\n",
       "    </tr>\n",
       "    <tr>\n",
       "      <th>1</th>\n",
       "      <td>33</td>\n",
       "      <td>Atlanta</td>\n",
       "    </tr>\n",
       "    <tr>\n",
       "      <th>2</th>\n",
       "      <td>17</td>\n",
       "      <td>Chicago</td>\n",
       "    </tr>\n",
       "    <tr>\n",
       "      <th>3</th>\n",
       "      <td>25</td>\n",
       "      <td>Washington</td>\n",
       "    </tr>\n",
       "    <tr>\n",
       "      <th>4</th>\n",
       "      <td>21</td>\n",
       "      <td>Philadelphia</td>\n",
       "    </tr>\n",
       "  </tbody>\n",
       "</table>\n",
       "</div>"
      ],
      "text/plain": [
       "   Black Percentage          City\n",
       "0                17      New York\n",
       "1                33       Atlanta\n",
       "2                17       Chicago\n",
       "3                25    Washington\n",
       "4                21  Philadelphia"
      ]
     },
     "execution_count": 16,
     "metadata": {},
     "output_type": "execute_result"
    }
   ],
   "source": [
    "black_perc.head()"
   ]
  },
  {
   "cell_type": "code",
   "execution_count": 64,
   "metadata": {},
   "outputs": [],
   "source": [
    "black = black_perc.merge(df_pivot, left_on='City', right_index=True, how='inner')\n",
    "black['Black Ratio'] = (black['Black Ratio']*100).astype(int)"
   ]
  },
  {
   "cell_type": "code",
   "execution_count": 65,
   "metadata": {},
   "outputs": [],
   "source": [
    "black = black[['City', 'Black Ratio', 'Black Percentage']]"
   ]
  },
  {
   "cell_type": "code",
   "execution_count": 66,
   "metadata": {},
   "outputs": [],
   "source": [
    "black = black.sort_values(by='Black Percentage', ascending=False)"
   ]
  },
  {
   "cell_type": "code",
   "execution_count": 67,
   "metadata": {
    "scrolled": true
   },
   "outputs": [
    {
     "data": {
      "text/html": [
       "<div>\n",
       "<table border=\"1\" class=\"dataframe\">\n",
       "  <thead>\n",
       "    <tr style=\"text-align: right;\">\n",
       "      <th></th>\n",
       "      <th>City</th>\n",
       "      <th>% of shooting</th>\n",
       "      <th>% of population</th>\n",
       "    </tr>\n",
       "  </thead>\n",
       "  <tbody>\n",
       "    <tr>\n",
       "      <th>0</th>\n",
       "      <td>New Orleans</td>\n",
       "      <td>100</td>\n",
       "      <td>35</td>\n",
       "    </tr>\n",
       "    <tr>\n",
       "      <th>1</th>\n",
       "      <td>Atlanta</td>\n",
       "      <td>50</td>\n",
       "      <td>33</td>\n",
       "    </tr>\n",
       "    <tr>\n",
       "      <th>2</th>\n",
       "      <td>Norfolk</td>\n",
       "      <td>50</td>\n",
       "      <td>31</td>\n",
       "    </tr>\n",
       "    <tr>\n",
       "      <th>3</th>\n",
       "      <td>Richmond</td>\n",
       "      <td>12</td>\n",
       "      <td>30</td>\n",
       "    </tr>\n",
       "    <tr>\n",
       "      <th>4</th>\n",
       "      <td>Baltimore</td>\n",
       "      <td>80</td>\n",
       "      <td>29</td>\n",
       "    </tr>\n",
       "  </tbody>\n",
       "</table>\n",
       "</div>"
      ],
      "text/plain": [
       "          City  % of shooting  % of population\n",
       "0  New Orleans            100               35\n",
       "1      Atlanta             50               33\n",
       "2      Norfolk             50               31\n",
       "3     Richmond             12               30\n",
       "4    Baltimore             80               29"
      ]
     },
     "execution_count": 67,
     "metadata": {},
     "output_type": "execute_result"
    }
   ],
   "source": [
    "black = black.reset_index(drop=True)\n",
    "#black = black.set_index('City')\n",
    "black = black.rename(index=str, columns={\"Black Ratio\": \"% of shooting\", \"Black Percentage\": \"% of population\"})\n",
    "black.head()"
   ]
  },
  {
   "cell_type": "code",
   "execution_count": 69,
   "metadata": {},
   "outputs": [
    {
     "data": {
      "image/png": "[encoded data removed]",
      "text/plain": [
       "<matplotlib.figure.Figure at 0x7fed7bd78e10>"
      ]
     },
     "metadata": {},
     "output_type": "display_data"
    }
   ],
   "source": [
    "ax = black[['City', '% of shooting']].plot(x='City', color='red', linestyle='-')\n",
    "black[['City', '% of population']].plot(x='City', kind='bar', ax=ax)\n",
    "plt.ylabel('percentage of black people')\n",
    "plt.legend()\n",
    "plt.title('% of shooting of black people vs. black people population ')\n",
    "plt.show()"
   ]
  },
  {
   "cell_type": "markdown",
   "metadata": {},
   "source": [
    "Figure 1: Comparing the % of shooting of black people with the black people population in Metro areas with Largest African-American Population"
   ]
  },
  {
   "cell_type": "markdown",
   "metadata": {},
   "source": [
    "#### Comment: There is no regular pattern of % of black people killed in police shooting with the % of black population in Metro areas with Largest African-American Population."
   ]
  }
 ],
 "metadata": {
  "kernelspec": {
   "display_name": "PUI2016_Python3",
   "language": "python",
   "name": "pui2016_python3"
  },
  "language_info": {
   "codemirror_mode": {
    "name": "ipython",
    "version": 3
   },
   "file_extension": ".py",
   "mimetype": "text/x-python",
   "name": "python",
   "nbconvert_exporter": "python",
   "pygments_lexer": "ipython3",
   "version": "3.5.4"
  }
 },
 "nbformat": 4,
 "nbformat_minor": 2
}
