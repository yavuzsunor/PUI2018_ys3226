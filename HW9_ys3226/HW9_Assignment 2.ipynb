{
 "cells": [
  {
   "cell_type": "code",
   "execution_count": 1,
   "metadata": {},
   "outputs": [
    {
     "name": "stdout",
     "output_type": "stream",
     "text": [
      "Populating the interactive namespace from numpy and matplotlib\n"
     ]
    }
   ],
   "source": [
    "from __future__ import print_function, division\n",
    "import pylab as pl\n",
    "\n",
    "import os\n",
    "import json\n",
    "\n",
    "import statsmodels.api as sm\n",
    "import statsmodels.formula.api as smf\n",
    "\n",
    "%pylab inline"
   ]
  },
  {
   "cell_type": "code",
   "execution_count": 17,
   "metadata": {},
   "outputs": [],
   "source": [
    "def errors(x):\n",
    "    return np.sqrt(x)\n",
    "    \n",
    "\n",
    "def line(a, x, b=0, errors=None):\n",
    "    '''\n",
    "    creates a line from parameters and exogenous variable\n",
    "    a: slope\n",
    "    x: exogenous variable\n",
    "    b: intercept - default 0\n",
    "    errors: add uncertainties (sqrt(N) - default True)\n",
    "    '''\n",
    "    np.random.randn(123)\n",
    "    if errors is None:\n",
    "        return a*x + b \n",
    "    else:\n",
    "        return a*x + b + np.random.randn(len(x)) * np.sqrt(x)"
   ]
  },
  {
   "cell_type": "markdown",
   "metadata": {},
   "source": [
    "## 1. create a line with a chosen slope and intercept = 0 and plot it with uncertainties as errorbars"
   ]
  },
  {
   "cell_type": "code",
   "execution_count": 107,
   "metadata": {},
   "outputs": [],
   "source": [
    "#the x-variable and  the slope\n",
    "x = np.linspace(10,100,10)\n",
    "a = 0.4\n",
    "#using the above function\n",
    "y = line(a, x, b=0, errors=True)"
   ]
  },
  {
   "cell_type": "code",
   "execution_count": 108,
   "metadata": {
    "scrolled": true
   },
   "outputs": [
    {
     "data": {
      "image/png": "[encoded data removed]",
      "text/plain": [
       "<matplotlib.figure.Figure at 0x7fb3f69250b8>"
      ]
     },
     "metadata": {},
     "output_type": "display_data"
    }
   ],
   "source": [
    "fig = pl.figure(figsize=(15,10))\n",
    "ax = fig.add_subplot(221)\n",
    "e = np.random.randn(len(x)) * np.sqrt(x)\n",
    "\n",
    "ax.errorbar(x, y, yerr=e, fmt='.', label = \"uncertainties as errorbars\")\n",
    "ax.plot(x, y, 'k', alpha=0.4,\n",
    "            label = \"the line generated\")\n",
    "\n",
    "\n",
    "plt.title('the line generated and uncertainties as errorbars')\n",
    "ax.set_xlabel('exegenous')\n",
    "ax.set_ylabel('endegenous')\n",
    "ax.legend()\n",
    "plt.show()"
   ]
  },
  {
   "cell_type": "markdown",
   "metadata": {},
   "source": [
    "Figure 1: exegenous vs. endegenous data points visualized with errorbars"
   ]
  },
  {
   "cell_type": "markdown",
   "metadata": {},
   "source": [
    "## 2. print y, x, and the result of applying statsmodels.api.add_constant() to x"
   ]
  },
  {
   "cell_type": "code",
   "execution_count": 57,
   "metadata": {},
   "outputs": [
    {
     "name": "stdout",
     "output_type": "stream",
     "text": [
      "the result of statsmodels.api.add_constant():\n",
      "[[   1.   10.]\n",
      " [   1.   20.]\n",
      " [   1.   30.]\n",
      " [   1.   40.]\n",
      " [   1.   50.]\n",
      " [   1.   60.]\n",
      " [   1.   70.]\n",
      " [   1.   80.]\n",
      " [   1.   90.]\n",
      " [   1.  100.]]\n",
      "\n",
      "x:\n",
      "[  10.   20.   30.   40.   50.   60.   70.   80.   90.  100.]\n",
      "\n",
      "y:\n",
      "[ 10.17090614   6.63872543  16.15410857  17.27648956  25.15065039\n",
      "  21.1636849   36.16233137  43.43760751  18.30141379  42.05339096]\n"
     ]
    }
   ],
   "source": [
    "X = sm.add_constant(x)\n",
    "print(\"the result of statsmodels.api.add_constant():\")\n",
    "print(X)\n",
    "print( )\n",
    "print(\"x:\")\n",
    "print(x)\n",
    "print( )\n",
    "print(\"y:\")\n",
    "print(y)"
   ]
  },
  {
   "cell_type": "markdown",
   "metadata": {},
   "source": [
    "## 3. use statsmodels.api.OLS to fit x and y"
   ]
  },
  {
   "cell_type": "markdown",
   "metadata": {},
   "source": [
    "a) wrong way:"
   ]
  },
  {
   "cell_type": "code",
   "execution_count": 67,
   "metadata": {
    "scrolled": true
   },
   "outputs": [
    {
     "name": "stderr",
     "output_type": "stream",
     "text": [
      "/usr/local/Anaconda3-5.0.0-Linux-x86_64/envs/PUI2016_Python3/lib/python3.5/site-packages/scipy/stats/stats.py:1535: UserWarning: kurtosistest only valid for n>=20 ... continuing anyway, n=10\n",
      "  \"anyway, n=%i\" % int(n))\n"
     ]
    },
    {
     "data": {
      "text/html": [
       "<table class=\"simpletable\">\n",
       "<caption>OLS Regression Results</caption>\n",
       "<tr>\n",
       "  <th>Dep. Variable:</th>            <td>y</td>        <th>  R-squared:         </th> <td>   0.915</td>\n",
       "</tr>\n",
       "<tr>\n",
       "  <th>Model:</th>                   <td>OLS</td>       <th>  Adj. R-squared:    </th> <td>   0.905</td>\n",
       "</tr>\n",
       "<tr>\n",
       "  <th>Method:</th>             <td>Least Squares</td>  <th>  F-statistic:       </th> <td>   96.54</td>\n",
       "</tr>\n",
       "<tr>\n",
       "  <th>Date:</th>             <td>Tue, 13 Nov 2018</td> <th>  Prob (F-statistic):</th> <td>4.14e-06</td>\n",
       "</tr>\n",
       "<tr>\n",
       "  <th>Time:</th>                 <td>19:10:39</td>     <th>  Log-Likelihood:    </th> <td> -34.696</td>\n",
       "</tr>\n",
       "<tr>\n",
       "  <th>No. Observations:</th>      <td>    10</td>      <th>  AIC:               </th> <td>   71.39</td>\n",
       "</tr>\n",
       "<tr>\n",
       "  <th>Df Residuals:</th>          <td>     9</td>      <th>  BIC:               </th> <td>   71.69</td>\n",
       "</tr>\n",
       "<tr>\n",
       "  <th>Df Model:</th>              <td>     1</td>      <th>                     </th>     <td> </td>   \n",
       "</tr>\n",
       "<tr>\n",
       "  <th>Covariance Type:</th>      <td>nonrobust</td>    <th>                     </th>     <td> </td>   \n",
       "</tr>\n",
       "</table>\n",
       "<table class=\"simpletable\">\n",
       "<tr>\n",
       "   <td></td>     <th>coef</th>     <th>std err</th>      <th>t</th>      <th>P>|t|</th> <th>[95.0% Conf. Int.]</th> \n",
       "</tr>\n",
       "<tr>\n",
       "  <th>x1</th> <td>    0.4103</td> <td>    0.042</td> <td>    9.825</td> <td> 0.000</td> <td>    0.316     0.505</td>\n",
       "</tr>\n",
       "</table>\n",
       "<table class=\"simpletable\">\n",
       "<tr>\n",
       "  <th>Omnibus:</th>       <td>10.274</td> <th>  Durbin-Watson:     </th> <td>   2.559</td>\n",
       "</tr>\n",
       "<tr>\n",
       "  <th>Prob(Omnibus):</th> <td> 0.006</td> <th>  Jarque-Bera (JB):  </th> <td>   4.433</td>\n",
       "</tr>\n",
       "<tr>\n",
       "  <th>Skew:</th>          <td>-1.416</td> <th>  Prob(JB):          </th> <td>   0.109</td>\n",
       "</tr>\n",
       "<tr>\n",
       "  <th>Kurtosis:</th>      <td> 4.618</td> <th>  Cond. No.          </th> <td>    1.00</td>\n",
       "</tr>\n",
       "</table>"
      ],
      "text/plain": [
       "<class 'statsmodels.iolib.summary.Summary'>\n",
       "\"\"\"\n",
       "                            OLS Regression Results                            \n",
       "==============================================================================\n",
       "Dep. Variable:                      y   R-squared:                       0.915\n",
       "Model:                            OLS   Adj. R-squared:                  0.905\n",
       "Method:                 Least Squares   F-statistic:                     96.54\n",
       "Date:                Tue, 13 Nov 2018   Prob (F-statistic):           4.14e-06\n",
       "Time:                        19:10:39   Log-Likelihood:                -34.696\n",
       "No. Observations:                  10   AIC:                             71.39\n",
       "Df Residuals:                       9   BIC:                             71.69\n",
       "Df Model:                           1                                         \n",
       "Covariance Type:            nonrobust                                         \n",
       "==============================================================================\n",
       "                 coef    std err          t      P>|t|      [95.0% Conf. Int.]\n",
       "------------------------------------------------------------------------------\n",
       "x1             0.4103      0.042      9.825      0.000         0.316     0.505\n",
       "==============================================================================\n",
       "Omnibus:                       10.274   Durbin-Watson:                   2.559\n",
       "Prob(Omnibus):                  0.006   Jarque-Bera (JB):                4.433\n",
       "Skew:                          -1.416   Prob(JB):                        0.109\n",
       "Kurtosis:                       4.618   Cond. No.                         1.00\n",
       "==============================================================================\n",
       "\n",
       "Warnings:\n",
       "[1] Standard Errors assume that the covariance matrix of the errors is correctly specified.\n",
       "\"\"\""
      ]
     },
     "execution_count": 67,
     "metadata": {},
     "output_type": "execute_result"
    }
   ],
   "source": [
    "smfit_1 = smf.OLS(y, x).fit()\n",
    "smfit_1.summary()"
   ]
  },
  {
   "cell_type": "markdown",
   "metadata": {},
   "source": [
    "b) correct way:"
   ]
  },
  {
   "cell_type": "code",
   "execution_count": 68,
   "metadata": {
    "scrolled": true
   },
   "outputs": [
    {
     "name": "stderr",
     "output_type": "stream",
     "text": [
      "/usr/local/Anaconda3-5.0.0-Linux-x86_64/envs/PUI2016_Python3/lib/python3.5/site-packages/scipy/stats/stats.py:1535: UserWarning: kurtosistest only valid for n>=20 ... continuing anyway, n=10\n",
      "  \"anyway, n=%i\" % int(n))\n"
     ]
    },
    {
     "data": {
      "text/html": [
       "<table class=\"simpletable\">\n",
       "<caption>OLS Regression Results</caption>\n",
       "<tr>\n",
       "  <th>Dep. Variable:</th>            <td>y</td>        <th>  R-squared:         </th> <td>   0.632</td>\n",
       "</tr>\n",
       "<tr>\n",
       "  <th>Model:</th>                   <td>OLS</td>       <th>  Adj. R-squared:    </th> <td>   0.586</td>\n",
       "</tr>\n",
       "<tr>\n",
       "  <th>Method:</th>             <td>Least Squares</td>  <th>  F-statistic:       </th> <td>   13.73</td>\n",
       "</tr>\n",
       "<tr>\n",
       "  <th>Date:</th>             <td>Tue, 13 Nov 2018</td> <th>  Prob (F-statistic):</th>  <td>0.00600</td>\n",
       "</tr>\n",
       "<tr>\n",
       "  <th>Time:</th>                 <td>19:11:01</td>     <th>  Log-Likelihood:    </th> <td> -34.220</td>\n",
       "</tr>\n",
       "<tr>\n",
       "  <th>No. Observations:</th>      <td>    10</td>      <th>  AIC:               </th> <td>   72.44</td>\n",
       "</tr>\n",
       "<tr>\n",
       "  <th>Df Residuals:</th>          <td>     8</td>      <th>  BIC:               </th> <td>   73.04</td>\n",
       "</tr>\n",
       "<tr>\n",
       "  <th>Df Model:</th>              <td>     1</td>      <th>                     </th>     <td> </td>   \n",
       "</tr>\n",
       "<tr>\n",
       "  <th>Covariance Type:</th>      <td>nonrobust</td>    <th>                     </th>     <td> </td>   \n",
       "</tr>\n",
       "</table>\n",
       "<table class=\"simpletable\">\n",
       "<tr>\n",
       "    <td></td>       <th>coef</th>     <th>std err</th>      <th>t</th>      <th>P>|t|</th> <th>[95.0% Conf. Int.]</th> \n",
       "</tr>\n",
       "<tr>\n",
       "  <th>const</th> <td>    5.0620</td> <td>    5.661</td> <td>    0.894</td> <td> 0.397</td> <td>   -7.991    18.115</td>\n",
       "</tr>\n",
       "<tr>\n",
       "  <th>x1</th>    <td>    0.3380</td> <td>    0.091</td> <td>    3.705</td> <td> 0.006</td> <td>    0.128     0.548</td>\n",
       "</tr>\n",
       "</table>\n",
       "<table class=\"simpletable\">\n",
       "<tr>\n",
       "  <th>Omnibus:</th>       <td> 4.067</td> <th>  Durbin-Watson:     </th> <td>   2.810</td>\n",
       "</tr>\n",
       "<tr>\n",
       "  <th>Prob(Omnibus):</th> <td> 0.131</td> <th>  Jarque-Bera (JB):  </th> <td>   1.263</td>\n",
       "</tr>\n",
       "<tr>\n",
       "  <th>Skew:</th>          <td>-0.821</td> <th>  Prob(JB):          </th> <td>   0.532</td>\n",
       "</tr>\n",
       "<tr>\n",
       "  <th>Kurtosis:</th>      <td> 3.577</td> <th>  Cond. No.          </th> <td>    134.</td>\n",
       "</tr>\n",
       "</table>"
      ],
      "text/plain": [
       "<class 'statsmodels.iolib.summary.Summary'>\n",
       "\"\"\"\n",
       "                            OLS Regression Results                            \n",
       "==============================================================================\n",
       "Dep. Variable:                      y   R-squared:                       0.632\n",
       "Model:                            OLS   Adj. R-squared:                  0.586\n",
       "Method:                 Least Squares   F-statistic:                     13.73\n",
       "Date:                Tue, 13 Nov 2018   Prob (F-statistic):            0.00600\n",
       "Time:                        19:11:01   Log-Likelihood:                -34.220\n",
       "No. Observations:                  10   AIC:                             72.44\n",
       "Df Residuals:                       8   BIC:                             73.04\n",
       "Df Model:                           1                                         \n",
       "Covariance Type:            nonrobust                                         \n",
       "==============================================================================\n",
       "                 coef    std err          t      P>|t|      [95.0% Conf. Int.]\n",
       "------------------------------------------------------------------------------\n",
       "const          5.0620      5.661      0.894      0.397        -7.991    18.115\n",
       "x1             0.3380      0.091      3.705      0.006         0.128     0.548\n",
       "==============================================================================\n",
       "Omnibus:                        4.067   Durbin-Watson:                   2.810\n",
       "Prob(Omnibus):                  0.131   Jarque-Bera (JB):                1.263\n",
       "Skew:                          -0.821   Prob(JB):                        0.532\n",
       "Kurtosis:                       3.577   Cond. No.                         134.\n",
       "==============================================================================\n",
       "\n",
       "Warnings:\n",
       "[1] Standard Errors assume that the covariance matrix of the errors is correctly specified.\n",
       "\"\"\""
      ]
     },
     "execution_count": 68,
     "metadata": {},
     "output_type": "execute_result"
    }
   ],
   "source": [
    "X = sm.add_constant(x)\n",
    "smfit_2 = smf.OLS(y, X).fit()\n",
    "smfit_2.summary()"
   ]
  },
  {
   "cell_type": "markdown",
   "metadata": {},
   "source": [
    "### Comment: When we add a constant to the model, coefficient of x1 has changed naturally. And as a result of that, whole model performance in terms of R-squared and F-statistics has also changed. And DF Residuals decreased because we added a new variable to the equation."
   ]
  },
  {
   "cell_type": "markdown",
   "metadata": {},
   "source": [
    "## 4. plot the data (as points) and both statsmodels fits"
   ]
  },
  {
   "cell_type": "code",
   "execution_count": 101,
   "metadata": {},
   "outputs": [
    {
     "data": {
      "image/png": "[encoded data removed]",
      "text/plain": [
       "<matplotlib.figure.Figure at 0x7fb3f0e036a0>"
      ]
     },
     "metadata": {},
     "output_type": "display_data"
    }
   ],
   "source": [
    "beta0_sm1 = smfit_1.params\n",
    "beta0_sm2, beta1_sm2 = smfit_2.params\n",
    "\n",
    "pl.figure(figsize = (7,7))\n",
    "\n",
    "plt.title('visualization of data and both statsmodels fits', fontsize=20)\n",
    "pl.xlabel('exegenous', fontsize=10)\n",
    "pl.ylabel('endegenous', fontsize=10)\n",
    "\n",
    "pl.scatter(x, y, s=100)\n",
    "\n",
    "pl.plot(x, x * beta0_sm1, color='black', label=\"smfit1: %.1f x \"%beta0_sm1)\n",
    "pl.plot(x, x * beta1_sm2 + beta0_sm2, '-.', color='orange', label=\"smfit2: %.1f x + %.1f\"\\\n",
    "       %(beta1_sm2, beta0_sm2))\n",
    "\n",
    "pl.legend(loc=2)\n",
    "plt.show()"
   ]
  },
  {
   "cell_type": "markdown",
   "metadata": {},
   "source": [
    "Figure 2: exegenous vs. endegenous data points with two different(with and without intercept) OLS models"
   ]
  },
  {
   "cell_type": "markdown",
   "metadata": {},
   "source": [
    "## 5. create a line with a chosen slope and a chosen intercept >=100*slope and plot it with uncertainties as errorbars"
   ]
  },
  {
   "cell_type": "code",
   "execution_count": 110,
   "metadata": {},
   "outputs": [],
   "source": [
    "#the x-variable and  the slope\n",
    "x = np.linspace(10,60,10)\n",
    "a = 0.6\n",
    "#using the above function\n",
    "y = line(a, x, b=70, errors=True)"
   ]
  },
  {
   "cell_type": "code",
   "execution_count": 123,
   "metadata": {},
   "outputs": [
    {
     "data": {
      "image/png": "[encoded data removed]",
      "text/plain": [
       "<matplotlib.figure.Figure at 0x7fb3f0efb588>"
      ]
     },
     "metadata": {},
     "output_type": "display_data"
    }
   ],
   "source": [
    "fig = pl.figure(figsize=(15,10))\n",
    "ax = fig.add_subplot(221)\n",
    "e = np.random.randn(len(x)) * np.sqrt(x)\n",
    "\n",
    "ax.errorbar(x, y, yerr=e, fmt='.', label = \"uncertainties as errorbars\")\n",
    "ax.plot(x, y, 'k', alpha=0.4,\n",
    "            label = \"the line generated\")\n",
    "\n",
    "\n",
    "plt.title('the line generated and uncertainties as errorbars')\n",
    "ax.set_xlabel('exegenous')\n",
    "ax.set_ylabel('endegenous')\n",
    "ax.legend(loc=2)\n",
    "plt.show()"
   ]
  },
  {
   "cell_type": "markdown",
   "metadata": {},
   "source": [
    "Figure 3: Newly generated data points(exegenous vs. endegenous) visualized with errorbars."
   ]
  },
  {
   "cell_type": "markdown",
   "metadata": {},
   "source": [
    "## 6. repeat step 3"
   ]
  },
  {
   "cell_type": "markdown",
   "metadata": {},
   "source": [
    "a) wrong way:"
   ]
  },
  {
   "cell_type": "code",
   "execution_count": 106,
   "metadata": {},
   "outputs": [
    {
     "name": "stderr",
     "output_type": "stream",
     "text": [
      "/usr/local/Anaconda3-5.0.0-Linux-x86_64/envs/PUI2016_Python3/lib/python3.5/site-packages/scipy/stats/stats.py:1535: UserWarning: kurtosistest only valid for n>=20 ... continuing anyway, n=10\n",
      "  \"anyway, n=%i\" % int(n))\n"
     ]
    },
    {
     "data": {
      "text/html": [
       "<table class=\"simpletable\">\n",
       "<caption>OLS Regression Results</caption>\n",
       "<tr>\n",
       "  <th>Dep. Variable:</th>            <td>y</td>        <th>  R-squared:         </th> <td>   0.911</td>\n",
       "</tr>\n",
       "<tr>\n",
       "  <th>Model:</th>                   <td>OLS</td>       <th>  Adj. R-squared:    </th> <td>   0.902</td>\n",
       "</tr>\n",
       "<tr>\n",
       "  <th>Method:</th>             <td>Least Squares</td>  <th>  F-statistic:       </th> <td>   92.63</td>\n",
       "</tr>\n",
       "<tr>\n",
       "  <th>Date:</th>             <td>Wed, 14 Nov 2018</td> <th>  Prob (F-statistic):</th> <td>4.92e-06</td>\n",
       "</tr>\n",
       "<tr>\n",
       "  <th>Time:</th>                 <td>00:23:40</td>     <th>  Log-Likelihood:    </th> <td> -47.665</td>\n",
       "</tr>\n",
       "<tr>\n",
       "  <th>No. Observations:</th>      <td>    10</td>      <th>  AIC:               </th> <td>   97.33</td>\n",
       "</tr>\n",
       "<tr>\n",
       "  <th>Df Residuals:</th>          <td>     9</td>      <th>  BIC:               </th> <td>   97.63</td>\n",
       "</tr>\n",
       "<tr>\n",
       "  <th>Df Model:</th>              <td>     1</td>      <th>                     </th>     <td> </td>   \n",
       "</tr>\n",
       "<tr>\n",
       "  <th>Covariance Type:</th>      <td>nonrobust</td>    <th>                     </th>     <td> </td>   \n",
       "</tr>\n",
       "</table>\n",
       "<table class=\"simpletable\">\n",
       "<tr>\n",
       "   <td></td>     <th>coef</th>     <th>std err</th>      <th>t</th>      <th>P>|t|</th> <th>[95.0% Conf. Int.]</th> \n",
       "</tr>\n",
       "<tr>\n",
       "  <th>x1</th> <td>    2.3714</td> <td>    0.246</td> <td>    9.624</td> <td> 0.000</td> <td>    1.814     2.929</td>\n",
       "</tr>\n",
       "</table>\n",
       "<table class=\"simpletable\">\n",
       "<tr>\n",
       "  <th>Omnibus:</th>       <td> 1.161</td> <th>  Durbin-Watson:     </th> <td>   0.141</td>\n",
       "</tr>\n",
       "<tr>\n",
       "  <th>Prob(Omnibus):</th> <td> 0.560</td> <th>  Jarque-Bera (JB):  </th> <td>   0.672</td>\n",
       "</tr>\n",
       "<tr>\n",
       "  <th>Skew:</th>          <td> 0.082</td> <th>  Prob(JB):          </th> <td>   0.715</td>\n",
       "</tr>\n",
       "<tr>\n",
       "  <th>Kurtosis:</th>      <td> 1.741</td> <th>  Cond. No.          </th> <td>    1.00</td>\n",
       "</tr>\n",
       "</table>"
      ],
      "text/plain": [
       "<class 'statsmodels.iolib.summary.Summary'>\n",
       "\"\"\"\n",
       "                            OLS Regression Results                            \n",
       "==============================================================================\n",
       "Dep. Variable:                      y   R-squared:                       0.911\n",
       "Model:                            OLS   Adj. R-squared:                  0.902\n",
       "Method:                 Least Squares   F-statistic:                     92.63\n",
       "Date:                Wed, 14 Nov 2018   Prob (F-statistic):           4.92e-06\n",
       "Time:                        00:23:40   Log-Likelihood:                -47.665\n",
       "No. Observations:                  10   AIC:                             97.33\n",
       "Df Residuals:                       9   BIC:                             97.63\n",
       "Df Model:                           1                                         \n",
       "Covariance Type:            nonrobust                                         \n",
       "==============================================================================\n",
       "                 coef    std err          t      P>|t|      [95.0% Conf. Int.]\n",
       "------------------------------------------------------------------------------\n",
       "x1             2.3714      0.246      9.624      0.000         1.814     2.929\n",
       "==============================================================================\n",
       "Omnibus:                        1.161   Durbin-Watson:                   0.141\n",
       "Prob(Omnibus):                  0.560   Jarque-Bera (JB):                0.672\n",
       "Skew:                           0.082   Prob(JB):                        0.715\n",
       "Kurtosis:                       1.741   Cond. No.                         1.00\n",
       "==============================================================================\n",
       "\n",
       "Warnings:\n",
       "[1] Standard Errors assume that the covariance matrix of the errors is correctly specified.\n",
       "\"\"\""
      ]
     },
     "execution_count": 106,
     "metadata": {},
     "output_type": "execute_result"
    }
   ],
   "source": [
    "smfit_1 = smf.OLS(y, x).fit()\n",
    "smfit_1.summary()"
   ]
  },
  {
   "cell_type": "markdown",
   "metadata": {},
   "source": [
    "b) correct way:"
   ]
  },
  {
   "cell_type": "code",
   "execution_count": 113,
   "metadata": {},
   "outputs": [
    {
     "name": "stderr",
     "output_type": "stream",
     "text": [
      "/usr/local/Anaconda3-5.0.0-Linux-x86_64/envs/PUI2016_Python3/lib/python3.5/site-packages/scipy/stats/stats.py:1535: UserWarning: kurtosistest only valid for n>=20 ... continuing anyway, n=10\n",
      "  \"anyway, n=%i\" % int(n))\n"
     ]
    },
    {
     "data": {
      "text/html": [
       "<table class=\"simpletable\">\n",
       "<caption>OLS Regression Results</caption>\n",
       "<tr>\n",
       "  <th>Dep. Variable:</th>            <td>y</td>        <th>  R-squared:         </th> <td>   0.777</td>\n",
       "</tr>\n",
       "<tr>\n",
       "  <th>Model:</th>                   <td>OLS</td>       <th>  Adj. R-squared:    </th> <td>   0.749</td>\n",
       "</tr>\n",
       "<tr>\n",
       "  <th>Method:</th>             <td>Least Squares</td>  <th>  F-statistic:       </th> <td>   27.80</td>\n",
       "</tr>\n",
       "<tr>\n",
       "  <th>Date:</th>             <td>Wed, 14 Nov 2018</td> <th>  Prob (F-statistic):</th> <td>0.000753</td>\n",
       "</tr>\n",
       "<tr>\n",
       "  <th>Time:</th>                 <td>00:30:51</td>     <th>  Log-Likelihood:    </th> <td> -31.757</td>\n",
       "</tr>\n",
       "<tr>\n",
       "  <th>No. Observations:</th>      <td>    10</td>      <th>  AIC:               </th> <td>   67.51</td>\n",
       "</tr>\n",
       "<tr>\n",
       "  <th>Df Residuals:</th>          <td>     8</td>      <th>  BIC:               </th> <td>   68.12</td>\n",
       "</tr>\n",
       "<tr>\n",
       "  <th>Df Model:</th>              <td>     1</td>      <th>                     </th>     <td> </td>   \n",
       "</tr>\n",
       "<tr>\n",
       "  <th>Covariance Type:</th>      <td>nonrobust</td>    <th>                     </th>     <td> </td>   \n",
       "</tr>\n",
       "</table>\n",
       "<table class=\"simpletable\">\n",
       "<tr>\n",
       "    <td></td>       <th>coef</th>     <th>std err</th>      <th>t</th>      <th>P>|t|</th> <th>[95.0% Conf. Int.]</th> \n",
       "</tr>\n",
       "<tr>\n",
       "  <th>const</th> <td>   67.5080</td> <td>    4.938</td> <td>   13.672</td> <td> 0.000</td> <td>   56.122    78.895</td>\n",
       "</tr>\n",
       "<tr>\n",
       "  <th>x1</th>    <td>    0.6768</td> <td>    0.128</td> <td>    5.273</td> <td> 0.001</td> <td>    0.381     0.973</td>\n",
       "</tr>\n",
       "</table>\n",
       "<table class=\"simpletable\">\n",
       "<tr>\n",
       "  <th>Omnibus:</th>       <td> 7.582</td> <th>  Durbin-Watson:     </th> <td>   2.354</td>\n",
       "</tr>\n",
       "<tr>\n",
       "  <th>Prob(Omnibus):</th> <td> 0.023</td> <th>  Jarque-Bera (JB):  </th> <td>   2.958</td>\n",
       "</tr>\n",
       "<tr>\n",
       "  <th>Skew:</th>          <td> 1.213</td> <th>  Prob(JB):          </th> <td>   0.228</td>\n",
       "</tr>\n",
       "<tr>\n",
       "  <th>Kurtosis:</th>      <td> 4.104</td> <th>  Cond. No.          </th> <td>    92.8</td>\n",
       "</tr>\n",
       "</table>"
      ],
      "text/plain": [
       "<class 'statsmodels.iolib.summary.Summary'>\n",
       "\"\"\"\n",
       "                            OLS Regression Results                            \n",
       "==============================================================================\n",
       "Dep. Variable:                      y   R-squared:                       0.777\n",
       "Model:                            OLS   Adj. R-squared:                  0.749\n",
       "Method:                 Least Squares   F-statistic:                     27.80\n",
       "Date:                Wed, 14 Nov 2018   Prob (F-statistic):           0.000753\n",
       "Time:                        00:30:51   Log-Likelihood:                -31.757\n",
       "No. Observations:                  10   AIC:                             67.51\n",
       "Df Residuals:                       8   BIC:                             68.12\n",
       "Df Model:                           1                                         \n",
       "Covariance Type:            nonrobust                                         \n",
       "==============================================================================\n",
       "                 coef    std err          t      P>|t|      [95.0% Conf. Int.]\n",
       "------------------------------------------------------------------------------\n",
       "const         67.5080      4.938     13.672      0.000        56.122    78.895\n",
       "x1             0.6768      0.128      5.273      0.001         0.381     0.973\n",
       "==============================================================================\n",
       "Omnibus:                        7.582   Durbin-Watson:                   2.354\n",
       "Prob(Omnibus):                  0.023   Jarque-Bera (JB):                2.958\n",
       "Skew:                           1.213   Prob(JB):                        0.228\n",
       "Kurtosis:                       4.104   Cond. No.                         92.8\n",
       "==============================================================================\n",
       "\n",
       "Warnings:\n",
       "[1] Standard Errors assume that the covariance matrix of the errors is correctly specified.\n",
       "\"\"\""
      ]
     },
     "execution_count": 113,
     "metadata": {},
     "output_type": "execute_result"
    }
   ],
   "source": [
    "X = sm.add_constant(x)\n",
    "smfit_2 = smf.OLS(y, X).fit()\n",
    "smfit_2.summary()"
   ]
  },
  {
   "cell_type": "markdown",
   "metadata": {},
   "source": [
    "### Comment: Here, the second model with a constant represents the line way better, because I created the line with an intercept. Even the coefficients of the model are very similar to the slope(0.6~0.6768) and intercept(70~67.5080) I had chosen."
   ]
  },
  {
   "cell_type": "markdown",
   "metadata": {},
   "source": [
    "## 7. now fit the data with WLS weighted least square, a linear fit that takes into account the uncertainties by \"down-weighting\" (considering less important) observations with large uncertainties"
   ]
  },
  {
   "cell_type": "code",
   "execution_count": 118,
   "metadata": {},
   "outputs": [
    {
     "name": "stderr",
     "output_type": "stream",
     "text": [
      "/usr/local/Anaconda3-5.0.0-Linux-x86_64/envs/PUI2016_Python3/lib/python3.5/site-packages/scipy/stats/stats.py:1535: UserWarning: kurtosistest only valid for n>=20 ... continuing anyway, n=10\n",
      "  \"anyway, n=%i\" % int(n))\n"
     ]
    },
    {
     "data": {
      "text/html": [
       "<table class=\"simpletable\">\n",
       "<caption>WLS Regression Results</caption>\n",
       "<tr>\n",
       "  <th>Dep. Variable:</th>            <td>y</td>        <th>  R-squared:         </th> <td>   0.757</td>\n",
       "</tr>\n",
       "<tr>\n",
       "  <th>Model:</th>                   <td>WLS</td>       <th>  Adj. R-squared:    </th> <td>   0.726</td>\n",
       "</tr>\n",
       "<tr>\n",
       "  <th>Method:</th>             <td>Least Squares</td>  <th>  F-statistic:       </th> <td>   24.88</td>\n",
       "</tr>\n",
       "<tr>\n",
       "  <th>Date:</th>             <td>Wed, 14 Nov 2018</td> <th>  Prob (F-statistic):</th>  <td>0.00107</td>\n",
       "</tr>\n",
       "<tr>\n",
       "  <th>Time:</th>                 <td>01:02:52</td>     <th>  Log-Likelihood:    </th> <td> -31.866</td>\n",
       "</tr>\n",
       "<tr>\n",
       "  <th>No. Observations:</th>      <td>    10</td>      <th>  AIC:               </th> <td>   67.73</td>\n",
       "</tr>\n",
       "<tr>\n",
       "  <th>Df Residuals:</th>          <td>     8</td>      <th>  BIC:               </th> <td>   68.34</td>\n",
       "</tr>\n",
       "<tr>\n",
       "  <th>Df Model:</th>              <td>     1</td>      <th>                     </th>     <td> </td>   \n",
       "</tr>\n",
       "<tr>\n",
       "  <th>Covariance Type:</th>      <td>nonrobust</td>    <th>                     </th>     <td> </td>   \n",
       "</tr>\n",
       "</table>\n",
       "<table class=\"simpletable\">\n",
       "<tr>\n",
       "    <td></td>       <th>coef</th>     <th>std err</th>      <th>t</th>      <th>P>|t|</th> <th>[95.0% Conf. Int.]</th> \n",
       "</tr>\n",
       "<tr>\n",
       "  <th>const</th> <td>   68.1193</td> <td>    5.383</td> <td>   12.654</td> <td> 0.000</td> <td>   55.706    80.533</td>\n",
       "</tr>\n",
       "<tr>\n",
       "  <th>x1</th>    <td>    0.6619</td> <td>    0.133</td> <td>    4.988</td> <td> 0.001</td> <td>    0.356     0.968</td>\n",
       "</tr>\n",
       "</table>\n",
       "<table class=\"simpletable\">\n",
       "<tr>\n",
       "  <th>Omnibus:</th>       <td> 7.436</td> <th>  Durbin-Watson:     </th> <td>   2.342</td>\n",
       "</tr>\n",
       "<tr>\n",
       "  <th>Prob(Omnibus):</th> <td> 0.024</td> <th>  Jarque-Bera (JB):  </th> <td>   2.894</td>\n",
       "</tr>\n",
       "<tr>\n",
       "  <th>Skew:</th>          <td> 1.205</td> <th>  Prob(JB):          </th> <td>   0.235</td>\n",
       "</tr>\n",
       "<tr>\n",
       "  <th>Kurtosis:</th>      <td> 4.065</td> <th>  Cond. No.          </th> <td>    106.</td>\n",
       "</tr>\n",
       "</table>"
      ],
      "text/plain": [
       "<class 'statsmodels.iolib.summary.Summary'>\n",
       "\"\"\"\n",
       "                            WLS Regression Results                            \n",
       "==============================================================================\n",
       "Dep. Variable:                      y   R-squared:                       0.757\n",
       "Model:                            WLS   Adj. R-squared:                  0.726\n",
       "Method:                 Least Squares   F-statistic:                     24.88\n",
       "Date:                Wed, 14 Nov 2018   Prob (F-statistic):            0.00107\n",
       "Time:                        01:02:52   Log-Likelihood:                -31.866\n",
       "No. Observations:                  10   AIC:                             67.73\n",
       "Df Residuals:                       8   BIC:                             68.34\n",
       "Df Model:                           1                                         \n",
       "Covariance Type:            nonrobust                                         \n",
       "==============================================================================\n",
       "                 coef    std err          t      P>|t|      [95.0% Conf. Int.]\n",
       "------------------------------------------------------------------------------\n",
       "const         68.1193      5.383     12.654      0.000        55.706    80.533\n",
       "x1             0.6619      0.133      4.988      0.001         0.356     0.968\n",
       "==============================================================================\n",
       "Omnibus:                        7.436   Durbin-Watson:                   2.342\n",
       "Prob(Omnibus):                  0.024   Jarque-Bera (JB):                2.894\n",
       "Skew:                           1.205   Prob(JB):                        0.235\n",
       "Kurtosis:                       4.065   Cond. No.                         106.\n",
       "==============================================================================\n",
       "\n",
       "Warnings:\n",
       "[1] Standard Errors assume that the covariance matrix of the errors is correctly specified.\n",
       "\"\"\""
      ]
     },
     "execution_count": 118,
     "metadata": {},
     "output_type": "execute_result"
    }
   ],
   "source": [
    "X = sm.add_constant(x)\n",
    "#take uncertainties as a logarithmic function of x's\n",
    "errors = np.log(x)\n",
    "\n",
    "wls_model = sm.WLS(y, X, weights= errors)\n",
    "wls_fit = wls_model.fit()\n",
    "wls_fit.summary()"
   ]
  }
 ],
 "metadata": {
  "kernelspec": {
   "display_name": "PUI2016_Python3",
   "language": "python",
   "name": "pui2016_python3"
  },
  "language_info": {
   "codemirror_mode": {
    "name": "ipython",
    "version": 3
   },
   "file_extension": ".py",
   "mimetype": "text/x-python",
   "name": "python",
   "nbconvert_exporter": "python",
   "pygments_lexer": "ipython3",
   "version": "3.5.4"
  }
 },
 "nbformat": 4,
 "nbformat_minor": 2
}
