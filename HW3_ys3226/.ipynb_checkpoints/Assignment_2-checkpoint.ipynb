{
 "cells": [
  {
   "cell_type": "code",
   "execution_count": 37,
   "metadata": {},
   "outputs": [],
   "source": [
    "from __future__ import print_function #for compatibility beteen python2 and python3\n",
    "import os\n",
    "import pandas as pd\n",
    "import datetime as dt\n",
    "import matplotlib.pyplot as plt"
   ]
  },
  {
   "cell_type": "markdown",
   "metadata": {},
   "source": [
    "### Dowloading the zip data into the desginated directory made in terminal already"
   ]
  },
  {
   "cell_type": "code",
   "execution_count": 13,
   "metadata": {},
   "outputs": [
    {
     "name": "stdout",
     "output_type": "stream",
     "text": [
      "PUIDATA /nfshome/ys3226/PUIdata\n"
     ]
    }
   ],
   "source": [
    "# ove the downloaded data to PUI data\n",
    "print(\"PUIDATA\", os.getenv(\"PUIDATA\"))"
   ]
  },
  {
   "cell_type": "code",
   "execution_count": 14,
   "metadata": {},
   "outputs": [
    {
     "name": "stdout",
     "output_type": "stream",
     "text": [
      "PUIdata /nfshome/ys3226/PUIDATA\n"
     ]
    }
   ],
   "source": [
    "#create the env variable if missing\n",
    "os.environ[\"PUIDATA\"] = \"%s/PUIDATA\"%os.getenv(\"HOME\")\n",
    "\n",
    "print(\"PUIdata\", os.getenv(\"PUIDATA\"))"
   ]
  },
  {
   "cell_type": "code",
   "execution_count": 15,
   "metadata": {},
   "outputs": [
    {
     "name": "stdout",
     "output_type": "stream",
     "text": [
      "citybike.zip\r\n"
     ]
    }
   ],
   "source": [
    "!ls $PUIDATA"
   ]
  },
  {
   "cell_type": "code",
   "execution_count": 16,
   "metadata": {},
   "outputs": [],
   "source": [
    "cb = pd.read_csv(\"%s/citybike.zip\"%os.getenv(\"PUIDATA\"))"
   ]
  },
  {
   "cell_type": "code",
   "execution_count": 26,
   "metadata": {
    "scrolled": true
   },
   "outputs": [
    {
     "data": {
      "text/html": [
       "<div>\n",
       "<table border=\"1\" class=\"dataframe\">\n",
       "  <thead>\n",
       "    <tr style=\"text-align: right;\">\n",
       "      <th></th>\n",
       "      <th>tripduration</th>\n",
       "      <th>starttime</th>\n",
       "      <th>stoptime</th>\n",
       "      <th>start station id</th>\n",
       "      <th>start station name</th>\n",
       "      <th>start station latitude</th>\n",
       "      <th>start station longitude</th>\n",
       "      <th>end station id</th>\n",
       "      <th>end station name</th>\n",
       "      <th>end station latitude</th>\n",
       "      <th>end station longitude</th>\n",
       "      <th>bikeid</th>\n",
       "      <th>usertype</th>\n",
       "      <th>birth year</th>\n",
       "      <th>gender</th>\n",
       "      <th>age</th>\n",
       "    </tr>\n",
       "  </thead>\n",
       "  <tbody>\n",
       "    <tr>\n",
       "      <th>0</th>\n",
       "      <td>903</td>\n",
       "      <td>2018-08-01 06:40:33.3610</td>\n",
       "      <td>2018-08-01 06:55:37.1060</td>\n",
       "      <td>3183</td>\n",
       "      <td>Exchange Place</td>\n",
       "      <td>40.716247</td>\n",
       "      <td>-74.033459</td>\n",
       "      <td>3270</td>\n",
       "      <td>Jersey &amp; 6th St</td>\n",
       "      <td>40.725289</td>\n",
       "      <td>-74.045572</td>\n",
       "      <td>29612</td>\n",
       "      <td>Subscriber</td>\n",
       "      <td>1977</td>\n",
       "      <td>1</td>\n",
       "      <td>41</td>\n",
       "    </tr>\n",
       "    <tr>\n",
       "      <th>1</th>\n",
       "      <td>78</td>\n",
       "      <td>2018-08-01 08:21:00.1450</td>\n",
       "      <td>2018-08-01 08:22:18.6310</td>\n",
       "      <td>3183</td>\n",
       "      <td>Exchange Place</td>\n",
       "      <td>40.716247</td>\n",
       "      <td>-74.033459</td>\n",
       "      <td>3184</td>\n",
       "      <td>Paulus Hook</td>\n",
       "      <td>40.714145</td>\n",
       "      <td>-74.033552</td>\n",
       "      <td>29791</td>\n",
       "      <td>Subscriber</td>\n",
       "      <td>1975</td>\n",
       "      <td>1</td>\n",
       "      <td>43</td>\n",
       "    </tr>\n",
       "    <tr>\n",
       "      <th>2</th>\n",
       "      <td>405</td>\n",
       "      <td>2018-08-01 08:43:52.5150</td>\n",
       "      <td>2018-08-01 08:50:37.6140</td>\n",
       "      <td>3183</td>\n",
       "      <td>Exchange Place</td>\n",
       "      <td>40.716247</td>\n",
       "      <td>-74.033459</td>\n",
       "      <td>3202</td>\n",
       "      <td>Newport PATH</td>\n",
       "      <td>40.727224</td>\n",
       "      <td>-74.033759</td>\n",
       "      <td>29571</td>\n",
       "      <td>Subscriber</td>\n",
       "      <td>1973</td>\n",
       "      <td>1</td>\n",
       "      <td>45</td>\n",
       "    </tr>\n",
       "    <tr>\n",
       "      <th>3</th>\n",
       "      <td>155</td>\n",
       "      <td>2018-08-01 09:48:24.9450</td>\n",
       "      <td>2018-08-01 09:51:00.9360</td>\n",
       "      <td>3183</td>\n",
       "      <td>Exchange Place</td>\n",
       "      <td>40.716247</td>\n",
       "      <td>-74.033459</td>\n",
       "      <td>3275</td>\n",
       "      <td>Columbus Drive</td>\n",
       "      <td>40.718355</td>\n",
       "      <td>-74.038914</td>\n",
       "      <td>29504</td>\n",
       "      <td>Subscriber</td>\n",
       "      <td>1971</td>\n",
       "      <td>1</td>\n",
       "      <td>47</td>\n",
       "    </tr>\n",
       "    <tr>\n",
       "      <th>4</th>\n",
       "      <td>453</td>\n",
       "      <td>2018-08-01 12:15:35.1230</td>\n",
       "      <td>2018-08-01 12:23:08.8880</td>\n",
       "      <td>3183</td>\n",
       "      <td>Exchange Place</td>\n",
       "      <td>40.716247</td>\n",
       "      <td>-74.033459</td>\n",
       "      <td>3273</td>\n",
       "      <td>Manila &amp; 1st</td>\n",
       "      <td>40.721651</td>\n",
       "      <td>-74.042884</td>\n",
       "      <td>33669</td>\n",
       "      <td>Subscriber</td>\n",
       "      <td>1993</td>\n",
       "      <td>1</td>\n",
       "      <td>25</td>\n",
       "    </tr>\n",
       "    <tr>\n",
       "      <th>5</th>\n",
       "      <td>336</td>\n",
       "      <td>2018-08-01 12:29:25.6750</td>\n",
       "      <td>2018-08-01 12:35:02.4880</td>\n",
       "      <td>3183</td>\n",
       "      <td>Exchange Place</td>\n",
       "      <td>40.716247</td>\n",
       "      <td>-74.033459</td>\n",
       "      <td>3211</td>\n",
       "      <td>Newark Ave</td>\n",
       "      <td>40.721525</td>\n",
       "      <td>-74.046305</td>\n",
       "      <td>29573</td>\n",
       "      <td>Subscriber</td>\n",
       "      <td>1988</td>\n",
       "      <td>1</td>\n",
       "      <td>30</td>\n",
       "    </tr>\n",
       "    <tr>\n",
       "      <th>6</th>\n",
       "      <td>462</td>\n",
       "      <td>2018-08-01 12:47:15.3370</td>\n",
       "      <td>2018-08-01 12:54:57.7900</td>\n",
       "      <td>3183</td>\n",
       "      <td>Exchange Place</td>\n",
       "      <td>40.716247</td>\n",
       "      <td>-74.033459</td>\n",
       "      <td>3267</td>\n",
       "      <td>Morris Canal</td>\n",
       "      <td>40.712419</td>\n",
       "      <td>-74.038526</td>\n",
       "      <td>33651</td>\n",
       "      <td>Subscriber</td>\n",
       "      <td>1969</td>\n",
       "      <td>1</td>\n",
       "      <td>49</td>\n",
       "    </tr>\n",
       "  </tbody>\n",
       "</table>\n",
       "</div>"
      ],
      "text/plain": [
       "   tripduration                 starttime                  stoptime  \\\n",
       "0           903  2018-08-01 06:40:33.3610  2018-08-01 06:55:37.1060   \n",
       "1            78  2018-08-01 08:21:00.1450  2018-08-01 08:22:18.6310   \n",
       "2           405  2018-08-01 08:43:52.5150  2018-08-01 08:50:37.6140   \n",
       "3           155  2018-08-01 09:48:24.9450  2018-08-01 09:51:00.9360   \n",
       "4           453  2018-08-01 12:15:35.1230  2018-08-01 12:23:08.8880   \n",
       "5           336  2018-08-01 12:29:25.6750  2018-08-01 12:35:02.4880   \n",
       "6           462  2018-08-01 12:47:15.3370  2018-08-01 12:54:57.7900   \n",
       "\n",
       "   start station id start station name  start station latitude  \\\n",
       "0              3183     Exchange Place               40.716247   \n",
       "1              3183     Exchange Place               40.716247   \n",
       "2              3183     Exchange Place               40.716247   \n",
       "3              3183     Exchange Place               40.716247   \n",
       "4              3183     Exchange Place               40.716247   \n",
       "5              3183     Exchange Place               40.716247   \n",
       "6              3183     Exchange Place               40.716247   \n",
       "\n",
       "   start station longitude  end station id end station name  \\\n",
       "0               -74.033459            3270  Jersey & 6th St   \n",
       "1               -74.033459            3184      Paulus Hook   \n",
       "2               -74.033459            3202     Newport PATH   \n",
       "3               -74.033459            3275   Columbus Drive   \n",
       "4               -74.033459            3273     Manila & 1st   \n",
       "5               -74.033459            3211       Newark Ave   \n",
       "6               -74.033459            3267     Morris Canal   \n",
       "\n",
       "   end station latitude  end station longitude  bikeid    usertype  \\\n",
       "0             40.725289             -74.045572   29612  Subscriber   \n",
       "1             40.714145             -74.033552   29791  Subscriber   \n",
       "2             40.727224             -74.033759   29571  Subscriber   \n",
       "3             40.718355             -74.038914   29504  Subscriber   \n",
       "4             40.721651             -74.042884   33669  Subscriber   \n",
       "5             40.721525             -74.046305   29573  Subscriber   \n",
       "6             40.712419             -74.038526   33651  Subscriber   \n",
       "\n",
       "   birth year  gender  age  \n",
       "0        1977       1   41  \n",
       "1        1975       1   43  \n",
       "2        1973       1   45  \n",
       "3        1971       1   47  \n",
       "4        1993       1   25  \n",
       "5        1988       1   30  \n",
       "6        1969       1   49  "
      ]
     },
     "execution_count": 26,
     "metadata": {},
     "output_type": "execute_result"
    }
   ],
   "source": [
    "#print the fist 7 lines out\n",
    "cb.head(7)"
   ]
  },
  {
   "cell_type": "code",
   "execution_count": 33,
   "metadata": {},
   "outputs": [],
   "source": [
    "#create age variable instead of birthyear\n",
    "cb['age'] = dt.date.today().year - cb['birth year']"
   ]
  },
  {
   "cell_type": "code",
   "execution_count": 34,
   "metadata": {},
   "outputs": [
    {
     "data": {
      "text/plain": [
       "Index(['tripduration', 'starttime', 'stoptime', 'start station id',\n",
       "       'start station name', 'start station latitude',\n",
       "       'start station longitude', 'end station id', 'end station name',\n",
       "       'end station latitude', 'end station longitude', 'bikeid', 'usertype',\n",
       "       'birth year', 'gender', 'age'],\n",
       "      dtype='object')"
      ]
     },
     "execution_count": 34,
     "metadata": {},
     "output_type": "execute_result"
    }
   ],
   "source": [
    "cb.columns"
   ]
  },
  {
   "cell_type": "code",
   "execution_count": 35,
   "metadata": {},
   "outputs": [],
   "source": [
    "#select 2 columns only for plotting\n",
    "cb_2c = cb[['tripduration', 'age']]"
   ]
  },
  {
   "cell_type": "code",
   "execution_count": 36,
   "metadata": {},
   "outputs": [
    {
     "data": {
      "text/html": [
       "<div>\n",
       "<table border=\"1\" class=\"dataframe\">\n",
       "  <thead>\n",
       "    <tr style=\"text-align: right;\">\n",
       "      <th></th>\n",
       "      <th>tripduration</th>\n",
       "      <th>age</th>\n",
       "    </tr>\n",
       "  </thead>\n",
       "  <tbody>\n",
       "    <tr>\n",
       "      <th>0</th>\n",
       "      <td>903</td>\n",
       "      <td>41</td>\n",
       "    </tr>\n",
       "    <tr>\n",
       "      <th>1</th>\n",
       "      <td>78</td>\n",
       "      <td>43</td>\n",
       "    </tr>\n",
       "    <tr>\n",
       "      <th>2</th>\n",
       "      <td>405</td>\n",
       "      <td>45</td>\n",
       "    </tr>\n",
       "    <tr>\n",
       "      <th>3</th>\n",
       "      <td>155</td>\n",
       "      <td>47</td>\n",
       "    </tr>\n",
       "    <tr>\n",
       "      <th>4</th>\n",
       "      <td>453</td>\n",
       "      <td>25</td>\n",
       "    </tr>\n",
       "  </tbody>\n",
       "</table>\n",
       "</div>"
      ],
      "text/plain": [
       "   tripduration  age\n",
       "0           903   41\n",
       "1            78   43\n",
       "2           405   45\n",
       "3           155   47\n",
       "4           453   25"
      ]
     },
     "execution_count": 36,
     "metadata": {},
     "output_type": "execute_result"
    }
   ],
   "source": [
    "cb_2c.head()"
   ]
  },
  {
   "cell_type": "code",
   "execution_count": 57,
   "metadata": {},
   "outputs": [
    {
     "name": "stderr",
     "output_type": "stream",
     "text": [
      "/usr/local/Anaconda3-5.0.0-Linux-x86_64/envs/PUI2016_Python3/lib/python3.5/site-packages/pandas/core/frame.py:2754: SettingWithCopyWarning: \n",
      "A value is trying to be set on a copy of a slice from a DataFrame\n",
      "\n",
      "See the caveats in the documentation: http://pandas.pydata.org/pandas-docs/stable/indexing.html#indexing-view-versus-copy\n",
      "  **kwargs)\n"
     ]
    }
   ],
   "source": [
    "cb_2c.rename(columns = {'tripduration':'Trip Duration', \n",
    "               'age':'Age'}, inplace=True)"
   ]
  },
  {
   "cell_type": "code",
   "execution_count": 58,
   "metadata": {},
   "outputs": [
    {
     "data": {
      "image/png": "[encoded data removed]",
      "text/plain": [
       "<matplotlib.figure.Figure at 0x7f66df4e4ef0>"
      ]
     },
     "metadata": {},
     "output_type": "display_data"
    }
   ],
   "source": [
    "cb_2c.plot(x=\"Age\", y=\"Trip Duration\", kind='scatter')\n",
    "plt.show()"
   ]
  },
  {
   "cell_type": "markdown",
   "metadata": {},
   "source": [
    "Figure 1: The city bike trip duration(in seconds) vs. the age fo users. The plot needs to be adjusted to make more sense of it by removing outliers and meaningless data points. Even a log-scale plot could be more meaningful in terms of visualization. "
   ]
  },
  {
   "cell_type": "markdown",
   "metadata": {},
   "source": [
    "## Extra Credit Assignment"
   ]
  },
  {
   "cell_type": "markdown",
   "metadata": {},
   "source": [
    "#### Get a different dataset(real-time traffic speed data) to be able to get a .json format"
   ]
  },
  {
   "cell_type": "code",
   "execution_count": 49,
   "metadata": {},
   "outputs": [],
   "source": [
    "url = \"https://data.cityofnewyork.us/resource/i4gi-tjb9.json\""
   ]
  },
  {
   "cell_type": "code",
   "execution_count": 50,
   "metadata": {},
   "outputs": [],
   "source": [
    "df = pd.read_json(url)"
   ]
  },
  {
   "cell_type": "code",
   "execution_count": 51,
   "metadata": {
    "scrolled": true
   },
   "outputs": [
    {
     "data": {
      "text/html": [
       "<div>\n",
       "<table border=\"1\" class=\"dataframe\">\n",
       "  <thead>\n",
       "    <tr style=\"text-align: right;\">\n",
       "      <th></th>\n",
       "      <th>borough</th>\n",
       "      <th>data_as_of</th>\n",
       "      <th>encoded_poly_line</th>\n",
       "      <th>encoded_poly_line_lvls</th>\n",
       "      <th>id</th>\n",
       "      <th>link_id</th>\n",
       "      <th>link_name</th>\n",
       "      <th>link_points</th>\n",
       "      <th>owner</th>\n",
       "      <th>speed</th>\n",
       "      <th>status</th>\n",
       "      <th>transcom_id</th>\n",
       "      <th>travel_time</th>\n",
       "    </tr>\n",
       "  </thead>\n",
       "  <tbody>\n",
       "    <tr>\n",
       "      <th>0</th>\n",
       "      <td>Queens</td>\n",
       "      <td>2018-09-25T03:28:24.000</td>\n",
       "      <td>ajzwFtmdbMmHhLyBbCkEhDiQrLsOjKcOjKcCx@_DJmC[{A...</td>\n",
       "      <td>BBBBBBBBBBBBBBBBBBBBBBBB</td>\n",
       "      <td>394</td>\n",
       "      <td>4616225</td>\n",
       "      <td>TBB N QUEENS ANCHORAGE - BE N</td>\n",
       "      <td>40.7723304,-73.91979 40.77384,-73.92192 40.774...</td>\n",
       "      <td>NYC_DOT_LIC</td>\n",
       "      <td>20.50</td>\n",
       "      <td>0</td>\n",
       "      <td>4616225</td>\n",
       "      <td>354</td>\n",
       "    </tr>\n",
       "    <tr>\n",
       "      <th>1</th>\n",
       "      <td>Queens</td>\n",
       "      <td>2018-09-25T03:28:24.000</td>\n",
       "      <td>u}hwFlv~`M{@a@oB{A_BiBkAgB??g@m@cBw@oAUcBLo@Vm...</td>\n",
       "      <td>BBBBBBBBBBBBBBBBBBBBBBBBB</td>\n",
       "      <td>331</td>\n",
       "      <td>4616353</td>\n",
       "      <td>Laurelton Pkwy N @ SSP - CIP N Hempstead Tpk</td>\n",
       "      <td>40.68331006,-73.72663 40.68361,-73.72646 40.68...</td>\n",
       "      <td>NYC_DOT_LIC</td>\n",
       "      <td>41.01</td>\n",
       "      <td>0</td>\n",
       "      <td>4616353</td>\n",
       "      <td>191</td>\n",
       "    </tr>\n",
       "    <tr>\n",
       "      <th>2</th>\n",
       "      <td>Manhattan</td>\n",
       "      <td>2018-09-25T03:28:24.000</td>\n",
       "      <td>gplwFnkrbMJ}CZiEh@mGNeBh@{Dh@wBb@cAr@iAl@s@|@u...</td>\n",
       "      <td>BBBBBBBBBBBBBBBBBBBBBBBBBBBBBBBBBB</td>\n",
       "      <td>150</td>\n",
       "      <td>4616340</td>\n",
       "      <td>BQE N Atlantic Ave - MAN Bridge Manhattan Side</td>\n",
       "      <td>40.7016405,-73.991121 40.70158,-73.99033 40.70...</td>\n",
       "      <td>NYC_DOT_LIC</td>\n",
       "      <td>0.00</td>\n",
       "      <td>-101</td>\n",
       "      <td>4616340</td>\n",
       "      <td>0</td>\n",
       "    </tr>\n",
       "    <tr>\n",
       "      <th>3</th>\n",
       "      <td>Bronx</td>\n",
       "      <td>2018-09-25T03:28:24.000</td>\n",
       "      <td>gndxFvq{aM{Ced@sAqReBa^{Cyb@{Bw[</td>\n",
       "      <td>BBBBBB</td>\n",
       "      <td>137</td>\n",
       "      <td>4616260</td>\n",
       "      <td>BE S CASTLE HILL AVENUE - STRATFORD AVENUE</td>\n",
       "      <td>40.8242005,-73.874361 40.8249804,-73.868411 40...</td>\n",
       "      <td>NYC_DOT_LIC</td>\n",
       "      <td>58.40</td>\n",
       "      <td>0</td>\n",
       "      <td>4616260</td>\n",
       "      <td>76</td>\n",
       "    </tr>\n",
       "    <tr>\n",
       "      <th>4</th>\n",
       "      <td>Manhattan</td>\n",
       "      <td>2018-09-25T03:28:24.000</td>\n",
       "      <td>oqjwFt}sbMwCn@gABoBWkF{AaE}AaBm@mJoDaI}Co@UoAm...</td>\n",
       "      <td>BBBBBBBBBBBBBBBBBBBBBBBBBBBBBBBBBBBBB</td>\n",
       "      <td>149</td>\n",
       "      <td>4616339</td>\n",
       "      <td>BQE N Atlantic Ave - BKN Bridge Manhattan Side</td>\n",
       "      <td>40.6916,-73.99915 40.69236,-73.99939 40.69272,...</td>\n",
       "      <td>NYC_DOT_LIC</td>\n",
       "      <td>39.76</td>\n",
       "      <td>0</td>\n",
       "      <td>4616339</td>\n",
       "      <td>179</td>\n",
       "    </tr>\n",
       "    <tr>\n",
       "      <th>5</th>\n",
       "      <td>Brooklyn</td>\n",
       "      <td>2018-09-25T03:28:24.000</td>\n",
       "      <td>}sowFx_jbMwDgHuHgOgG}LqBkDmB}CeCeFoD{Hg@qAcAgG...</td>\n",
       "      <td>BBBBBBBBBBBBBBBBBBBBBBBBBB</td>\n",
       "      <td>153</td>\n",
       "      <td>4616235</td>\n",
       "      <td>BQE N LEONARD STREET - 46TH STREET</td>\n",
       "      <td>40.69153,-73.99911 40.6922605,-73.99937 40.692...</td>\n",
       "      <td>NYC_DOT_LIC</td>\n",
       "      <td>44.11</td>\n",
       "      <td>0</td>\n",
       "      <td>4616235</td>\n",
       "      <td>162</td>\n",
       "    </tr>\n",
       "    <tr>\n",
       "      <th>6</th>\n",
       "      <td>Brooklyn</td>\n",
       "      <td>2018-09-25T03:28:24.000</td>\n",
       "      <td>kngwFzjtbM{CjBiIzG}Ap@yBXeACuA[uBw@uDuAqVoJgK{...</td>\n",
       "      <td>BBBBBBBBBBBBBBBB</td>\n",
       "      <td>154</td>\n",
       "      <td>4616229</td>\n",
       "      <td>BQE S - GOW S ALTANTIC AVENUE - 9TH STREET</td>\n",
       "      <td>40.6757405,-74.00126 40.6765204,-74.0018 40.67...</td>\n",
       "      <td>NYC_DOT_LIC</td>\n",
       "      <td>26.71</td>\n",
       "      <td>0</td>\n",
       "      <td>4616229</td>\n",
       "      <td>153</td>\n",
       "    </tr>\n",
       "  </tbody>\n",
       "</table>\n",
       "</div>"
      ],
      "text/plain": [
       "     borough               data_as_of  \\\n",
       "0     Queens  2018-09-25T03:28:24.000   \n",
       "1     Queens  2018-09-25T03:28:24.000   \n",
       "2  Manhattan  2018-09-25T03:28:24.000   \n",
       "3      Bronx  2018-09-25T03:28:24.000   \n",
       "4  Manhattan  2018-09-25T03:28:24.000   \n",
       "5   Brooklyn  2018-09-25T03:28:24.000   \n",
       "6   Brooklyn  2018-09-25T03:28:24.000   \n",
       "\n",
       "                                   encoded_poly_line  \\\n",
       "0  ajzwFtmdbMmHhLyBbCkEhDiQrLsOjKcOjKcCx@_DJmC[{A...   \n",
       "1  u}hwFlv~`M{@a@oB{A_BiBkAgB??g@m@cBw@oAUcBLo@Vm...   \n",
       "2  gplwFnkrbMJ}CZiEh@mGNeBh@{Dh@wBb@cAr@iAl@s@|@u...   \n",
       "3                   gndxFvq{aM{Ced@sAqReBa^{Cyb@{Bw[   \n",
       "4  oqjwFt}sbMwCn@gABoBWkF{AaE}AaBm@mJoDaI}Co@UoAm...   \n",
       "5  }sowFx_jbMwDgHuHgOgG}LqBkDmB}CeCeFoD{Hg@qAcAgG...   \n",
       "6  kngwFzjtbM{CjBiIzG}Ap@yBXeACuA[uBw@uDuAqVoJgK{...   \n",
       "\n",
       "                  encoded_poly_line_lvls   id  link_id  \\\n",
       "0               BBBBBBBBBBBBBBBBBBBBBBBB  394  4616225   \n",
       "1              BBBBBBBBBBBBBBBBBBBBBBBBB  331  4616353   \n",
       "2     BBBBBBBBBBBBBBBBBBBBBBBBBBBBBBBBBB  150  4616340   \n",
       "3                                 BBBBBB  137  4616260   \n",
       "4  BBBBBBBBBBBBBBBBBBBBBBBBBBBBBBBBBBBBB  149  4616339   \n",
       "5             BBBBBBBBBBBBBBBBBBBBBBBBBB  153  4616235   \n",
       "6                       BBBBBBBBBBBBBBBB  154  4616229   \n",
       "\n",
       "                                        link_name  \\\n",
       "0                   TBB N QUEENS ANCHORAGE - BE N   \n",
       "1    Laurelton Pkwy N @ SSP - CIP N Hempstead Tpk   \n",
       "2  BQE N Atlantic Ave - MAN Bridge Manhattan Side   \n",
       "3      BE S CASTLE HILL AVENUE - STRATFORD AVENUE   \n",
       "4  BQE N Atlantic Ave - BKN Bridge Manhattan Side   \n",
       "5              BQE N LEONARD STREET - 46TH STREET   \n",
       "6      BQE S - GOW S ALTANTIC AVENUE - 9TH STREET   \n",
       "\n",
       "                                         link_points        owner  speed  \\\n",
       "0  40.7723304,-73.91979 40.77384,-73.92192 40.774...  NYC_DOT_LIC  20.50   \n",
       "1  40.68331006,-73.72663 40.68361,-73.72646 40.68...  NYC_DOT_LIC  41.01   \n",
       "2  40.7016405,-73.991121 40.70158,-73.99033 40.70...  NYC_DOT_LIC   0.00   \n",
       "3  40.8242005,-73.874361 40.8249804,-73.868411 40...  NYC_DOT_LIC  58.40   \n",
       "4  40.6916,-73.99915 40.69236,-73.99939 40.69272,...  NYC_DOT_LIC  39.76   \n",
       "5  40.69153,-73.99911 40.6922605,-73.99937 40.692...  NYC_DOT_LIC  44.11   \n",
       "6  40.6757405,-74.00126 40.6765204,-74.0018 40.67...  NYC_DOT_LIC  26.71   \n",
       "\n",
       "   status  transcom_id  travel_time  \n",
       "0       0      4616225          354  \n",
       "1       0      4616353          191  \n",
       "2    -101      4616340            0  \n",
       "3       0      4616260           76  \n",
       "4       0      4616339          179  \n",
       "5       0      4616235          162  \n",
       "6       0      4616229          153  "
      ]
     },
     "execution_count": 51,
     "metadata": {},
     "output_type": "execute_result"
    }
   ],
   "source": [
    "#print the fist 7 lines out\n",
    "df.head(7)"
   ]
  },
  {
   "cell_type": "code",
   "execution_count": 71,
   "metadata": {},
   "outputs": [],
   "source": [
    "#select the data and 2 numerical variables for plotting\n",
    "df_3c = df[['data_as_of', 'speed', 'travel_time']].loc[df['borough'] == 'Manhattan']"
   ]
  },
  {
   "cell_type": "code",
   "execution_count": 72,
   "metadata": {},
   "outputs": [
    {
     "data": {
      "text/html": [
       "<div>\n",
       "<table border=\"1\" class=\"dataframe\">\n",
       "  <thead>\n",
       "    <tr style=\"text-align: right;\">\n",
       "      <th></th>\n",
       "      <th>data_as_of</th>\n",
       "      <th>speed</th>\n",
       "      <th>travel_time</th>\n",
       "    </tr>\n",
       "  </thead>\n",
       "  <tbody>\n",
       "    <tr>\n",
       "      <th>2</th>\n",
       "      <td>2018-09-25T03:28:24.000</td>\n",
       "      <td>0.00</td>\n",
       "      <td>0</td>\n",
       "    </tr>\n",
       "    <tr>\n",
       "      <th>4</th>\n",
       "      <td>2018-09-25T03:28:24.000</td>\n",
       "      <td>39.76</td>\n",
       "      <td>179</td>\n",
       "    </tr>\n",
       "    <tr>\n",
       "      <th>14</th>\n",
       "      <td>2018-09-25T03:28:24.000</td>\n",
       "      <td>24.23</td>\n",
       "      <td>107</td>\n",
       "    </tr>\n",
       "    <tr>\n",
       "      <th>21</th>\n",
       "      <td>2018-09-25T03:28:24.000</td>\n",
       "      <td>9.32</td>\n",
       "      <td>680</td>\n",
       "    </tr>\n",
       "    <tr>\n",
       "      <th>27</th>\n",
       "      <td>2018-09-25T03:28:24.000</td>\n",
       "      <td>31.68</td>\n",
       "      <td>81</td>\n",
       "    </tr>\n",
       "  </tbody>\n",
       "</table>\n",
       "</div>"
      ],
      "text/plain": [
       "                 data_as_of  speed  travel_time\n",
       "2   2018-09-25T03:28:24.000   0.00            0\n",
       "4   2018-09-25T03:28:24.000  39.76          179\n",
       "14  2018-09-25T03:28:24.000  24.23          107\n",
       "21  2018-09-25T03:28:24.000   9.32          680\n",
       "27  2018-09-25T03:28:24.000  31.68           81"
      ]
     },
     "execution_count": 72,
     "metadata": {},
     "output_type": "execute_result"
    }
   ],
   "source": [
    "df_3c.head()"
   ]
  },
  {
   "cell_type": "code",
   "execution_count": 87,
   "metadata": {},
   "outputs": [],
   "source": [
    "df_3c.rename(columns = {'data_as_of':'Date', \n",
    "                        'speed':'Speed',\n",
    "                        'travel_time':'Travel Time'}, inplace=True)"
   ]
  },
  {
   "cell_type": "code",
   "execution_count": 96,
   "metadata": {},
   "outputs": [
    {
     "data": {
      "image/png": "[encoded data removed]",
      "text/plain": [
       "<matplotlib.figure.Figure at 0x7f66df3f2208>"
      ]
     },
     "metadata": {},
     "output_type": "display_data"
    }
   ],
   "source": [
    "ax = df_3c.plot(x='Date', y='Speed')\n",
    "ax.set_ylabel(\"Speed(mph)\")\n",
    "plt.show()"
   ]
  },
  {
   "cell_type": "code",
   "execution_count": 90,
   "metadata": {},
   "outputs": [],
   "source": [
    "df_3c[\"Date\"] = df_3c[\"Date\"].apply(lambda x: pd.Timestamp(x))"
   ]
  },
  {
   "cell_type": "code",
   "execution_count": 91,
   "metadata": {},
   "outputs": [
    {
     "data": {
      "image/png": "[encoded data removed]",
      "text/plain": [
       "<matplotlib.figure.Figure at 0x7f66df54ba90>"
      ]
     },
     "metadata": {},
     "output_type": "display_data"
    }
   ],
   "source": [
    "ax = df_3c.plot(x='Date', y='Speed')\n",
    "ax.set_ylabel(\"Speed(mph)\")\n",
    "plt.show()"
   ]
  },
  {
   "cell_type": "markdown",
   "metadata": {},
   "source": [
    "Figure 2: Change in real-time traffic speed(mph) according to time of the day(Sep25) in the streets of Manhattan. Add something about traffic lights!!!!"
   ]
  },
  {
   "cell_type": "code",
   "execution_count": 94,
   "metadata": {},
   "outputs": [
    {
     "data": {
      "image/png": "[encoded data removed]",
      "text/plain": [
       "<matplotlib.figure.Figure at 0x7f66df3f2240>"
      ]
     },
     "metadata": {},
     "output_type": "display_data"
    }
   ],
   "source": [
    "#plot other column\n",
    "ax = df_3c.plot(x='Date', y='Travel Time')\n",
    "ax.set_ylabel(\"Travel Time(seconds)\")\n",
    "plt.show()"
   ]
  },
  {
   "cell_type": "markdown",
   "metadata": {},
   "source": [
    "Figure 3: Change in real-time travel time(seconds) according to time of the day(Sep25) in the streets of Manhattan."
   ]
  }
 ],
 "metadata": {
  "kernelspec": {
   "display_name": "PUI2016_Python3",
   "language": "python",
   "name": "pui2016_python3"
  },
  "language_info": {
   "codemirror_mode": {
    "name": "ipython",
    "version": 3
   },
   "file_extension": ".py",
   "mimetype": "text/x-python",
   "name": "python",
   "nbconvert_exporter": "python",
   "pygments_lexer": "ipython3",
   "version": "3.5.4"
  }
 },
 "nbformat": 4,
 "nbformat_minor": 2
}
